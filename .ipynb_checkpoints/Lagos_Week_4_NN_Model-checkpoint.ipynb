{
 "cells": [
  {
   "cell_type": "markdown",
   "id": "a09abe9a",
   "metadata": {},
   "source": [
    "# Author:  Daniel Lagos\n",
    "\n",
    "https://github.com/danlagos/ANA500-Week-4\n",
    "\n",
    "Date:  23 October 2022\n",
    "\n",
    "ANA 500"
   ]
  },
  {
   "cell_type": "code",
   "execution_count": 1,
   "id": "140ce6c9",
   "metadata": {},
   "outputs": [],
   "source": [
    "# import libraries\n",
    "import numpy as np\n",
    "import pandas as pd\n",
    "import seaborn as sns\n",
    "import matplotlib.pyplot as plt\n",
    "from sklearn.metrics import accuracy_score \n",
    "from sklearn.metrics import confusion_matrix\n",
    "from sklearn.model_selection import train_test_split\n",
    "from sklearn.tree import DecisionTreeClassifier \n",
    "import tensorflow as tf\n",
    "from tensorflow import keras\n",
    "from tensorflow.keras import layers\n",
    "import pydot\n",
    "import glob\n",
    "import zipfile"
   ]
  },
  {
   "cell_type": "code",
   "execution_count": 2,
   "id": "516cb478",
   "metadata": {},
   "outputs": [],
   "source": [
    "%matplotlib inline"
   ]
  },
  {
   "cell_type": "markdown",
   "id": "e42c34de",
   "metadata": {},
   "source": [
    "## Bring in CHIS 2020 from local hardrive\n",
    "## take zipped file \"adult.zip\" Unzip.  put file path in FILE_LOC"
   ]
  },
  {
   "cell_type": "code",
   "execution_count": 3,
   "id": "f9fb693d",
   "metadata": {},
   "outputs": [],
   "source": [
    "FILE_LOC = 'C:/Users/lagos/OneDrive/Documents/National University/8 - ANA 500/Week 1/homework/adult.sas7bdat'\n",
    "df = pd.read_sas(FILE_LOC)"
   ]
  },
  {
   "cell_type": "code",
   "execution_count": 4,
   "id": "0e037208",
   "metadata": {
    "scrolled": false
   },
   "outputs": [
    {
     "data": {
      "text/html": [
       "<div>\n",
       "<style scoped>\n",
       "    .dataframe tbody tr th:only-of-type {\n",
       "        vertical-align: middle;\n",
       "    }\n",
       "\n",
       "    .dataframe tbody tr th {\n",
       "        vertical-align: top;\n",
       "    }\n",
       "\n",
       "    .dataframe thead th {\n",
       "        text-align: right;\n",
       "    }\n",
       "</style>\n",
       "<table border=\"1\" class=\"dataframe\">\n",
       "  <thead>\n",
       "    <tr style=\"text-align: right;\">\n",
       "      <th></th>\n",
       "      <th>AA5C</th>\n",
       "      <th>AA5G</th>\n",
       "      <th>AH37</th>\n",
       "      <th>AH44</th>\n",
       "      <th>AB1</th>\n",
       "      <th>AB17</th>\n",
       "      <th>AB40</th>\n",
       "      <th>AB41</th>\n",
       "      <th>AB18</th>\n",
       "      <th>AB43</th>\n",
       "      <th>...</th>\n",
       "      <th>RAKEDW71</th>\n",
       "      <th>RAKEDW72</th>\n",
       "      <th>RAKEDW73</th>\n",
       "      <th>RAKEDW74</th>\n",
       "      <th>RAKEDW75</th>\n",
       "      <th>RAKEDW76</th>\n",
       "      <th>RAKEDW77</th>\n",
       "      <th>RAKEDW78</th>\n",
       "      <th>RAKEDW79</th>\n",
       "      <th>RAKEDW80</th>\n",
       "    </tr>\n",
       "  </thead>\n",
       "  <tbody>\n",
       "    <tr>\n",
       "      <th>0</th>\n",
       "      <td>-1.0</td>\n",
       "      <td>-1.0</td>\n",
       "      <td>-1.0</td>\n",
       "      <td>-1.0</td>\n",
       "      <td>3.0</td>\n",
       "      <td>2.0</td>\n",
       "      <td>-1.0</td>\n",
       "      <td>-1.0</td>\n",
       "      <td>-1.0</td>\n",
       "      <td>-1.0</td>\n",
       "      <td>...</td>\n",
       "      <td>1605.912814</td>\n",
       "      <td>1577.479222</td>\n",
       "      <td>1578.109407</td>\n",
       "      <td>1566.686492</td>\n",
       "      <td>1657.063161</td>\n",
       "      <td>1598.357033</td>\n",
       "      <td>1610.132833</td>\n",
       "      <td>1577.495627</td>\n",
       "      <td>1607.168800</td>\n",
       "      <td>1602.605396</td>\n",
       "    </tr>\n",
       "    <tr>\n",
       "      <th>1</th>\n",
       "      <td>-1.0</td>\n",
       "      <td>-1.0</td>\n",
       "      <td>-1.0</td>\n",
       "      <td>1.0</td>\n",
       "      <td>2.0</td>\n",
       "      <td>2.0</td>\n",
       "      <td>-1.0</td>\n",
       "      <td>-1.0</td>\n",
       "      <td>-1.0</td>\n",
       "      <td>-1.0</td>\n",
       "      <td>...</td>\n",
       "      <td>1558.197812</td>\n",
       "      <td>1513.430922</td>\n",
       "      <td>1537.924152</td>\n",
       "      <td>1537.402328</td>\n",
       "      <td>1529.306613</td>\n",
       "      <td>1544.735340</td>\n",
       "      <td>1531.233715</td>\n",
       "      <td>1557.723321</td>\n",
       "      <td>1562.932975</td>\n",
       "      <td>1503.820145</td>\n",
       "    </tr>\n",
       "    <tr>\n",
       "      <th>2</th>\n",
       "      <td>-1.0</td>\n",
       "      <td>-1.0</td>\n",
       "      <td>-1.0</td>\n",
       "      <td>-1.0</td>\n",
       "      <td>2.0</td>\n",
       "      <td>2.0</td>\n",
       "      <td>-1.0</td>\n",
       "      <td>-1.0</td>\n",
       "      <td>-1.0</td>\n",
       "      <td>-1.0</td>\n",
       "      <td>...</td>\n",
       "      <td>1211.750536</td>\n",
       "      <td>1212.772970</td>\n",
       "      <td>1202.982303</td>\n",
       "      <td>1225.293304</td>\n",
       "      <td>1248.000638</td>\n",
       "      <td>1216.821869</td>\n",
       "      <td>1233.241885</td>\n",
       "      <td>1201.254104</td>\n",
       "      <td>1201.887010</td>\n",
       "      <td>1218.093974</td>\n",
       "    </tr>\n",
       "    <tr>\n",
       "      <th>3</th>\n",
       "      <td>-1.0</td>\n",
       "      <td>-1.0</td>\n",
       "      <td>-1.0</td>\n",
       "      <td>-1.0</td>\n",
       "      <td>3.0</td>\n",
       "      <td>1.0</td>\n",
       "      <td>1.0</td>\n",
       "      <td>2.0</td>\n",
       "      <td>2.0</td>\n",
       "      <td>2.0</td>\n",
       "      <td>...</td>\n",
       "      <td>590.153646</td>\n",
       "      <td>604.817107</td>\n",
       "      <td>596.879484</td>\n",
       "      <td>594.582363</td>\n",
       "      <td>587.412696</td>\n",
       "      <td>590.762356</td>\n",
       "      <td>589.418840</td>\n",
       "      <td>598.307511</td>\n",
       "      <td>1195.997735</td>\n",
       "      <td>581.912369</td>\n",
       "    </tr>\n",
       "    <tr>\n",
       "      <th>4</th>\n",
       "      <td>-1.0</td>\n",
       "      <td>1.0</td>\n",
       "      <td>-1.0</td>\n",
       "      <td>1.0</td>\n",
       "      <td>4.0</td>\n",
       "      <td>2.0</td>\n",
       "      <td>-1.0</td>\n",
       "      <td>-1.0</td>\n",
       "      <td>-1.0</td>\n",
       "      <td>-1.0</td>\n",
       "      <td>...</td>\n",
       "      <td>194.059102</td>\n",
       "      <td>188.468808</td>\n",
       "      <td>201.853958</td>\n",
       "      <td>195.711101</td>\n",
       "      <td>200.749310</td>\n",
       "      <td>191.936914</td>\n",
       "      <td>206.431383</td>\n",
       "      <td>205.310211</td>\n",
       "      <td>449.979358</td>\n",
       "      <td>197.861495</td>\n",
       "    </tr>\n",
       "  </tbody>\n",
       "</table>\n",
       "<p>5 rows × 604 columns</p>\n",
       "</div>"
      ],
      "text/plain": [
       "   AA5C  AA5G  AH37  AH44  AB1  AB17  AB40  AB41  AB18  AB43  ...  \\\n",
       "0  -1.0  -1.0  -1.0  -1.0  3.0   2.0  -1.0  -1.0  -1.0  -1.0  ...   \n",
       "1  -1.0  -1.0  -1.0   1.0  2.0   2.0  -1.0  -1.0  -1.0  -1.0  ...   \n",
       "2  -1.0  -1.0  -1.0  -1.0  2.0   2.0  -1.0  -1.0  -1.0  -1.0  ...   \n",
       "3  -1.0  -1.0  -1.0  -1.0  3.0   1.0   1.0   2.0   2.0   2.0  ...   \n",
       "4  -1.0   1.0  -1.0   1.0  4.0   2.0  -1.0  -1.0  -1.0  -1.0  ...   \n",
       "\n",
       "      RAKEDW71     RAKEDW72     RAKEDW73     RAKEDW74     RAKEDW75  \\\n",
       "0  1605.912814  1577.479222  1578.109407  1566.686492  1657.063161   \n",
       "1  1558.197812  1513.430922  1537.924152  1537.402328  1529.306613   \n",
       "2  1211.750536  1212.772970  1202.982303  1225.293304  1248.000638   \n",
       "3   590.153646   604.817107   596.879484   594.582363   587.412696   \n",
       "4   194.059102   188.468808   201.853958   195.711101   200.749310   \n",
       "\n",
       "      RAKEDW76     RAKEDW77     RAKEDW78     RAKEDW79     RAKEDW80  \n",
       "0  1598.357033  1610.132833  1577.495627  1607.168800  1602.605396  \n",
       "1  1544.735340  1531.233715  1557.723321  1562.932975  1503.820145  \n",
       "2  1216.821869  1233.241885  1201.254104  1201.887010  1218.093974  \n",
       "3   590.762356   589.418840   598.307511  1195.997735   581.912369  \n",
       "4   191.936914   206.431383   205.310211   449.979358   197.861495  \n",
       "\n",
       "[5 rows x 604 columns]"
      ]
     },
     "execution_count": 4,
     "metadata": {},
     "output_type": "execute_result"
    }
   ],
   "source": [
    "df.head()"
   ]
  },
  {
   "cell_type": "code",
   "execution_count": 5,
   "id": "a62c86c0",
   "metadata": {},
   "outputs": [
    {
     "data": {
      "text/plain": [
       "(21949, 604)"
      ]
     },
     "execution_count": 5,
     "metadata": {},
     "output_type": "execute_result"
    }
   ],
   "source": [
    "df.shape"
   ]
  },
  {
   "cell_type": "code",
   "execution_count": 6,
   "id": "33b3bf21",
   "metadata": {},
   "outputs": [
    {
     "data": {
      "text/html": [
       "<div>\n",
       "<style scoped>\n",
       "    .dataframe tbody tr th:only-of-type {\n",
       "        vertical-align: middle;\n",
       "    }\n",
       "\n",
       "    .dataframe tbody tr th {\n",
       "        vertical-align: top;\n",
       "    }\n",
       "\n",
       "    .dataframe thead th {\n",
       "        text-align: right;\n",
       "    }\n",
       "</style>\n",
       "<table border=\"1\" class=\"dataframe\">\n",
       "  <thead>\n",
       "    <tr style=\"text-align: right;\">\n",
       "      <th></th>\n",
       "      <th>AA5C</th>\n",
       "      <th>AA5G</th>\n",
       "      <th>AH37</th>\n",
       "      <th>AH44</th>\n",
       "      <th>AB1</th>\n",
       "      <th>AB17</th>\n",
       "      <th>AB40</th>\n",
       "      <th>AB41</th>\n",
       "      <th>AB18</th>\n",
       "      <th>AB43</th>\n",
       "      <th>...</th>\n",
       "      <th>RAKEDW71</th>\n",
       "      <th>RAKEDW72</th>\n",
       "      <th>RAKEDW73</th>\n",
       "      <th>RAKEDW74</th>\n",
       "      <th>RAKEDW75</th>\n",
       "      <th>RAKEDW76</th>\n",
       "      <th>RAKEDW77</th>\n",
       "      <th>RAKEDW78</th>\n",
       "      <th>RAKEDW79</th>\n",
       "      <th>RAKEDW80</th>\n",
       "    </tr>\n",
       "  </thead>\n",
       "  <tbody>\n",
       "    <tr>\n",
       "      <th>count</th>\n",
       "      <td>21949.000000</td>\n",
       "      <td>21949.000000</td>\n",
       "      <td>21949.000000</td>\n",
       "      <td>21949.000000</td>\n",
       "      <td>21949.000000</td>\n",
       "      <td>21949.000000</td>\n",
       "      <td>21949.000000</td>\n",
       "      <td>21949.000000</td>\n",
       "      <td>21949.000000</td>\n",
       "      <td>21949.000000</td>\n",
       "      <td>...</td>\n",
       "      <td>21949.000000</td>\n",
       "      <td>21949.000000</td>\n",
       "      <td>21949.000000</td>\n",
       "      <td>21949.000000</td>\n",
       "      <td>21949.000000</td>\n",
       "      <td>21949.000000</td>\n",
       "      <td>21949.000000</td>\n",
       "      <td>21949.000000</td>\n",
       "      <td>21949.000000</td>\n",
       "      <td>21949.000000</td>\n",
       "    </tr>\n",
       "    <tr>\n",
       "      <th>mean</th>\n",
       "      <td>-0.960636</td>\n",
       "      <td>-0.552098</td>\n",
       "      <td>-0.326302</td>\n",
       "      <td>0.222379</td>\n",
       "      <td>2.341291</td>\n",
       "      <td>1.833888</td>\n",
       "      <td>-0.599526</td>\n",
       "      <td>-0.554832</td>\n",
       "      <td>-0.550913</td>\n",
       "      <td>-0.591325</td>\n",
       "      <td>...</td>\n",
       "      <td>1352.448039</td>\n",
       "      <td>1352.448039</td>\n",
       "      <td>1352.448039</td>\n",
       "      <td>1352.448039</td>\n",
       "      <td>1352.448039</td>\n",
       "      <td>1352.448039</td>\n",
       "      <td>1352.448039</td>\n",
       "      <td>1352.448039</td>\n",
       "      <td>1352.448039</td>\n",
       "      <td>1352.448039</td>\n",
       "    </tr>\n",
       "    <tr>\n",
       "      <th>std</th>\n",
       "      <td>0.659912</td>\n",
       "      <td>1.168150</td>\n",
       "      <td>1.184560</td>\n",
       "      <td>0.991387</td>\n",
       "      <td>0.981429</td>\n",
       "      <td>0.372190</td>\n",
       "      <td>0.919431</td>\n",
       "      <td>1.015401</td>\n",
       "      <td>1.023292</td>\n",
       "      <td>0.937936</td>\n",
       "      <td>...</td>\n",
       "      <td>2091.435859</td>\n",
       "      <td>2092.901363</td>\n",
       "      <td>2104.900368</td>\n",
       "      <td>2096.036125</td>\n",
       "      <td>2088.729887</td>\n",
       "      <td>2095.567090</td>\n",
       "      <td>2092.335538</td>\n",
       "      <td>2092.694536</td>\n",
       "      <td>2090.307319</td>\n",
       "      <td>2095.867094</td>\n",
       "    </tr>\n",
       "    <tr>\n",
       "      <th>min</th>\n",
       "      <td>-9.000000</td>\n",
       "      <td>-9.000000</td>\n",
       "      <td>-1.000000</td>\n",
       "      <td>-1.000000</td>\n",
       "      <td>1.000000</td>\n",
       "      <td>1.000000</td>\n",
       "      <td>-1.000000</td>\n",
       "      <td>-1.000000</td>\n",
       "      <td>-1.000000</td>\n",
       "      <td>-1.000000</td>\n",
       "      <td>...</td>\n",
       "      <td>0.000000</td>\n",
       "      <td>0.000000</td>\n",
       "      <td>0.000000</td>\n",
       "      <td>0.000000</td>\n",
       "      <td>0.000000</td>\n",
       "      <td>0.000000</td>\n",
       "      <td>0.000000</td>\n",
       "      <td>0.000000</td>\n",
       "      <td>0.000000</td>\n",
       "      <td>0.000000</td>\n",
       "    </tr>\n",
       "    <tr>\n",
       "      <th>25%</th>\n",
       "      <td>-1.000000</td>\n",
       "      <td>-1.000000</td>\n",
       "      <td>-1.000000</td>\n",
       "      <td>-1.000000</td>\n",
       "      <td>2.000000</td>\n",
       "      <td>2.000000</td>\n",
       "      <td>-1.000000</td>\n",
       "      <td>-1.000000</td>\n",
       "      <td>-1.000000</td>\n",
       "      <td>-1.000000</td>\n",
       "      <td>...</td>\n",
       "      <td>324.818102</td>\n",
       "      <td>324.039229</td>\n",
       "      <td>321.739889</td>\n",
       "      <td>323.658659</td>\n",
       "      <td>324.031699</td>\n",
       "      <td>325.738785</td>\n",
       "      <td>325.421122</td>\n",
       "      <td>325.554856</td>\n",
       "      <td>325.176711</td>\n",
       "      <td>324.560691</td>\n",
       "    </tr>\n",
       "    <tr>\n",
       "      <th>50%</th>\n",
       "      <td>-1.000000</td>\n",
       "      <td>-1.000000</td>\n",
       "      <td>-1.000000</td>\n",
       "      <td>1.000000</td>\n",
       "      <td>2.000000</td>\n",
       "      <td>2.000000</td>\n",
       "      <td>-1.000000</td>\n",
       "      <td>-1.000000</td>\n",
       "      <td>-1.000000</td>\n",
       "      <td>-1.000000</td>\n",
       "      <td>...</td>\n",
       "      <td>662.639879</td>\n",
       "      <td>660.627028</td>\n",
       "      <td>657.665679</td>\n",
       "      <td>659.843086</td>\n",
       "      <td>660.241920</td>\n",
       "      <td>661.285882</td>\n",
       "      <td>661.043202</td>\n",
       "      <td>662.490129</td>\n",
       "      <td>663.135013</td>\n",
       "      <td>661.093321</td>\n",
       "    </tr>\n",
       "    <tr>\n",
       "      <th>75%</th>\n",
       "      <td>-1.000000</td>\n",
       "      <td>-1.000000</td>\n",
       "      <td>1.000000</td>\n",
       "      <td>1.000000</td>\n",
       "      <td>3.000000</td>\n",
       "      <td>2.000000</td>\n",
       "      <td>-1.000000</td>\n",
       "      <td>-1.000000</td>\n",
       "      <td>-1.000000</td>\n",
       "      <td>-1.000000</td>\n",
       "      <td>...</td>\n",
       "      <td>1418.223673</td>\n",
       "      <td>1419.556965</td>\n",
       "      <td>1417.607116</td>\n",
       "      <td>1419.031915</td>\n",
       "      <td>1420.503449</td>\n",
       "      <td>1417.095377</td>\n",
       "      <td>1420.961575</td>\n",
       "      <td>1420.260658</td>\n",
       "      <td>1424.068916</td>\n",
       "      <td>1424.040072</td>\n",
       "    </tr>\n",
       "    <tr>\n",
       "      <th>max</th>\n",
       "      <td>2.000000</td>\n",
       "      <td>2.000000</td>\n",
       "      <td>4.000000</td>\n",
       "      <td>2.000000</td>\n",
       "      <td>5.000000</td>\n",
       "      <td>2.000000</td>\n",
       "      <td>2.000000</td>\n",
       "      <td>2.000000</td>\n",
       "      <td>2.000000</td>\n",
       "      <td>2.000000</td>\n",
       "      <td>...</td>\n",
       "      <td>18174.157476</td>\n",
       "      <td>18134.149592</td>\n",
       "      <td>18255.106622</td>\n",
       "      <td>18324.520579</td>\n",
       "      <td>18092.706574</td>\n",
       "      <td>18319.886710</td>\n",
       "      <td>18085.542721</td>\n",
       "      <td>18336.221861</td>\n",
       "      <td>18146.713144</td>\n",
       "      <td>18275.092123</td>\n",
       "    </tr>\n",
       "  </tbody>\n",
       "</table>\n",
       "<p>8 rows × 603 columns</p>\n",
       "</div>"
      ],
      "text/plain": [
       "               AA5C          AA5G          AH37          AH44           AB1  \\\n",
       "count  21949.000000  21949.000000  21949.000000  21949.000000  21949.000000   \n",
       "mean      -0.960636     -0.552098     -0.326302      0.222379      2.341291   \n",
       "std        0.659912      1.168150      1.184560      0.991387      0.981429   \n",
       "min       -9.000000     -9.000000     -1.000000     -1.000000      1.000000   \n",
       "25%       -1.000000     -1.000000     -1.000000     -1.000000      2.000000   \n",
       "50%       -1.000000     -1.000000     -1.000000      1.000000      2.000000   \n",
       "75%       -1.000000     -1.000000      1.000000      1.000000      3.000000   \n",
       "max        2.000000      2.000000      4.000000      2.000000      5.000000   \n",
       "\n",
       "               AB17          AB40          AB41          AB18          AB43  \\\n",
       "count  21949.000000  21949.000000  21949.000000  21949.000000  21949.000000   \n",
       "mean       1.833888     -0.599526     -0.554832     -0.550913     -0.591325   \n",
       "std        0.372190      0.919431      1.015401      1.023292      0.937936   \n",
       "min        1.000000     -1.000000     -1.000000     -1.000000     -1.000000   \n",
       "25%        2.000000     -1.000000     -1.000000     -1.000000     -1.000000   \n",
       "50%        2.000000     -1.000000     -1.000000     -1.000000     -1.000000   \n",
       "75%        2.000000     -1.000000     -1.000000     -1.000000     -1.000000   \n",
       "max        2.000000      2.000000      2.000000      2.000000      2.000000   \n",
       "\n",
       "       ...      RAKEDW71      RAKEDW72      RAKEDW73      RAKEDW74  \\\n",
       "count  ...  21949.000000  21949.000000  21949.000000  21949.000000   \n",
       "mean   ...   1352.448039   1352.448039   1352.448039   1352.448039   \n",
       "std    ...   2091.435859   2092.901363   2104.900368   2096.036125   \n",
       "min    ...      0.000000      0.000000      0.000000      0.000000   \n",
       "25%    ...    324.818102    324.039229    321.739889    323.658659   \n",
       "50%    ...    662.639879    660.627028    657.665679    659.843086   \n",
       "75%    ...   1418.223673   1419.556965   1417.607116   1419.031915   \n",
       "max    ...  18174.157476  18134.149592  18255.106622  18324.520579   \n",
       "\n",
       "           RAKEDW75      RAKEDW76      RAKEDW77      RAKEDW78      RAKEDW79  \\\n",
       "count  21949.000000  21949.000000  21949.000000  21949.000000  21949.000000   \n",
       "mean    1352.448039   1352.448039   1352.448039   1352.448039   1352.448039   \n",
       "std     2088.729887   2095.567090   2092.335538   2092.694536   2090.307319   \n",
       "min        0.000000      0.000000      0.000000      0.000000      0.000000   \n",
       "25%      324.031699    325.738785    325.421122    325.554856    325.176711   \n",
       "50%      660.241920    661.285882    661.043202    662.490129    663.135013   \n",
       "75%     1420.503449   1417.095377   1420.961575   1420.260658   1424.068916   \n",
       "max    18092.706574  18319.886710  18085.542721  18336.221861  18146.713144   \n",
       "\n",
       "           RAKEDW80  \n",
       "count  21949.000000  \n",
       "mean    1352.448039  \n",
       "std     2095.867094  \n",
       "min        0.000000  \n",
       "25%      324.560691  \n",
       "50%      661.093321  \n",
       "75%     1424.040072  \n",
       "max    18275.092123  \n",
       "\n",
       "[8 rows x 603 columns]"
      ]
     },
     "execution_count": 6,
     "metadata": {},
     "output_type": "execute_result"
    }
   ],
   "source": [
    "df.describe()"
   ]
  },
  {
   "cell_type": "markdown",
   "id": "c45481e1",
   "metadata": {},
   "source": [
    "## VAR DEPRESSION"
   ]
  },
  {
   "cell_type": "code",
   "execution_count": 7,
   "id": "5e88c523",
   "metadata": {
    "scrolled": true
   },
   "outputs": [
    {
     "data": {
      "text/plain": [
       "count    21949.000000\n",
       "mean         4.631783\n",
       "std          0.734293\n",
       "min         -2.000000\n",
       "25%          5.000000\n",
       "50%          5.000000\n",
       "75%          5.000000\n",
       "max          5.000000\n",
       "Name: AJ32, dtype: float64"
      ]
     },
     "execution_count": 7,
     "metadata": {},
     "output_type": "execute_result"
    }
   ],
   "source": [
    "df.AJ32.describe()"
   ]
  },
  {
   "cell_type": "markdown",
   "id": "4dd7b1f5",
   "metadata": {},
   "source": [
    "## VAR SMOKING HABITS"
   ]
  },
  {
   "cell_type": "code",
   "execution_count": 8,
   "id": "66fe9aa6",
   "metadata": {
    "scrolled": true
   },
   "outputs": [
    {
     "data": {
      "text/plain": [
       "count    21949.000000\n",
       "mean         2.638343\n",
       "std          0.582503\n",
       "min          1.000000\n",
       "25%          2.000000\n",
       "50%          3.000000\n",
       "75%          3.000000\n",
       "max          3.000000\n",
       "Name: SMOKING, dtype: float64"
      ]
     },
     "execution_count": 8,
     "metadata": {},
     "output_type": "execute_result"
    }
   ],
   "source": [
    "df.SMOKING.describe()"
   ]
  },
  {
   "cell_type": "markdown",
   "id": "5442895d",
   "metadata": {},
   "source": [
    "## VAR GENERAL HEALTH"
   ]
  },
  {
   "cell_type": "code",
   "execution_count": 9,
   "id": "db2832ca",
   "metadata": {
    "scrolled": true
   },
   "outputs": [
    {
     "data": {
      "text/plain": [
       "count    21949.000000\n",
       "mean         2.341291\n",
       "std          0.981429\n",
       "min          1.000000\n",
       "25%          2.000000\n",
       "50%          2.000000\n",
       "75%          3.000000\n",
       "max          5.000000\n",
       "Name: AB1, dtype: float64"
      ]
     },
     "execution_count": 9,
     "metadata": {},
     "output_type": "execute_result"
    }
   ],
   "source": [
    "df.AB1.describe() "
   ]
  },
  {
   "cell_type": "markdown",
   "id": "ed789e25",
   "metadata": {},
   "source": [
    "## POVERTY LEVELS AS LEVELS OF FEDERAL POVERTY LEVELS "
   ]
  },
  {
   "cell_type": "code",
   "execution_count": 10,
   "id": "669dd95d",
   "metadata": {
    "scrolled": true
   },
   "outputs": [
    {
     "data": {
      "text/plain": [
       "count    21949.000000\n",
       "mean         3.423983\n",
       "std          0.973787\n",
       "min          1.000000\n",
       "25%          3.000000\n",
       "50%          4.000000\n",
       "75%          4.000000\n",
       "max          4.000000\n",
       "Name: POVLL, dtype: float64"
      ]
     },
     "execution_count": 10,
     "metadata": {},
     "output_type": "execute_result"
    }
   ],
   "source": [
    "df.POVLL.describe() "
   ]
  },
  {
   "cell_type": "code",
   "execution_count": 11,
   "id": "863ce7c7",
   "metadata": {},
   "outputs": [
    {
     "name": "stdout",
     "output_type": "stream",
     "text": [
      "<class 'pandas.core.frame.DataFrame'>\n",
      "RangeIndex: 21949 entries, 0 to 21948\n",
      "Columns: 604 entries, AA5C to RAKEDW80\n",
      "dtypes: float64(603), object(1)\n",
      "memory usage: 101.1+ MB\n"
     ]
    }
   ],
   "source": [
    "df.info()"
   ]
  },
  {
   "cell_type": "markdown",
   "id": "533c47ce",
   "metadata": {},
   "source": [
    "## Filter data:  Get rid of values of negative values\n",
    "##  Also remove un-needed variables"
   ]
  },
  {
   "cell_type": "code",
   "execution_count": 12,
   "id": "147532fd",
   "metadata": {
    "scrolled": true
   },
   "outputs": [],
   "source": [
    "df = df.loc[:, ['SMOKING', 'AB1', 'POVLL', 'AJ32']]\n",
    "df = df[(df['AJ32'] > -1)]\n",
    "\n",
    "smokingCurrent = df.SMOKING # CURRENT SMOKING HABITS - CAT\n",
    "generalHealth = df.AB1 # GENERAL HEALTH CONDITION - CAT\n",
    "povertyFPL = df.POVLL # FPL - CAT\n",
    "depression = df.AJ32 # feeling depressed in last 30 days - CAT - DEP VAR"
   ]
  },
  {
   "cell_type": "markdown",
   "id": "502b9bda",
   "metadata": {},
   "source": [
    "##  Confirm negative values are gone."
   ]
  },
  {
   "cell_type": "code",
   "execution_count": 13,
   "id": "803023fa",
   "metadata": {},
   "outputs": [
    {
     "data": {
      "text/html": [
       "<div>\n",
       "<style scoped>\n",
       "    .dataframe tbody tr th:only-of-type {\n",
       "        vertical-align: middle;\n",
       "    }\n",
       "\n",
       "    .dataframe tbody tr th {\n",
       "        vertical-align: top;\n",
       "    }\n",
       "\n",
       "    .dataframe thead th {\n",
       "        text-align: right;\n",
       "    }\n",
       "</style>\n",
       "<table border=\"1\" class=\"dataframe\">\n",
       "  <thead>\n",
       "    <tr style=\"text-align: right;\">\n",
       "      <th></th>\n",
       "      <th>SMOKING</th>\n",
       "      <th>AB1</th>\n",
       "      <th>POVLL</th>\n",
       "      <th>AJ32</th>\n",
       "    </tr>\n",
       "  </thead>\n",
       "  <tbody>\n",
       "    <tr>\n",
       "      <th>count</th>\n",
       "      <td>21944.000000</td>\n",
       "      <td>21944.000000</td>\n",
       "      <td>21944.000000</td>\n",
       "      <td>21944.000000</td>\n",
       "    </tr>\n",
       "    <tr>\n",
       "      <th>mean</th>\n",
       "      <td>2.638307</td>\n",
       "      <td>2.341232</td>\n",
       "      <td>3.423943</td>\n",
       "      <td>4.633294</td>\n",
       "    </tr>\n",
       "    <tr>\n",
       "      <th>std</th>\n",
       "      <td>0.582533</td>\n",
       "      <td>0.981413</td>\n",
       "      <td>0.973866</td>\n",
       "      <td>0.727520</td>\n",
       "    </tr>\n",
       "    <tr>\n",
       "      <th>min</th>\n",
       "      <td>1.000000</td>\n",
       "      <td>1.000000</td>\n",
       "      <td>1.000000</td>\n",
       "      <td>1.000000</td>\n",
       "    </tr>\n",
       "    <tr>\n",
       "      <th>25%</th>\n",
       "      <td>2.000000</td>\n",
       "      <td>2.000000</td>\n",
       "      <td>3.000000</td>\n",
       "      <td>5.000000</td>\n",
       "    </tr>\n",
       "    <tr>\n",
       "      <th>50%</th>\n",
       "      <td>3.000000</td>\n",
       "      <td>2.000000</td>\n",
       "      <td>4.000000</td>\n",
       "      <td>5.000000</td>\n",
       "    </tr>\n",
       "    <tr>\n",
       "      <th>75%</th>\n",
       "      <td>3.000000</td>\n",
       "      <td>3.000000</td>\n",
       "      <td>4.000000</td>\n",
       "      <td>5.000000</td>\n",
       "    </tr>\n",
       "    <tr>\n",
       "      <th>max</th>\n",
       "      <td>3.000000</td>\n",
       "      <td>5.000000</td>\n",
       "      <td>4.000000</td>\n",
       "      <td>5.000000</td>\n",
       "    </tr>\n",
       "  </tbody>\n",
       "</table>\n",
       "</div>"
      ],
      "text/plain": [
       "            SMOKING           AB1         POVLL          AJ32\n",
       "count  21944.000000  21944.000000  21944.000000  21944.000000\n",
       "mean       2.638307      2.341232      3.423943      4.633294\n",
       "std        0.582533      0.981413      0.973866      0.727520\n",
       "min        1.000000      1.000000      1.000000      1.000000\n",
       "25%        2.000000      2.000000      3.000000      5.000000\n",
       "50%        3.000000      2.000000      4.000000      5.000000\n",
       "75%        3.000000      3.000000      4.000000      5.000000\n",
       "max        3.000000      5.000000      4.000000      5.000000"
      ]
     },
     "execution_count": 13,
     "metadata": {},
     "output_type": "execute_result"
    }
   ],
   "source": [
    "df.describe()"
   ]
  },
  {
   "cell_type": "markdown",
   "id": "8542f2f7",
   "metadata": {},
   "source": [
    "# Histograms "
   ]
  },
  {
   "cell_type": "markdown",
   "id": "55527542",
   "metadata": {},
   "source": [
    "## Current smoking habits"
   ]
  },
  {
   "cell_type": "code",
   "execution_count": 14,
   "id": "0ef9bd6b",
   "metadata": {},
   "outputs": [
    {
     "data": {
      "text/plain": [
       "<matplotlib.legend.Legend at 0x28908251d30>"
      ]
     },
     "execution_count": 14,
     "metadata": {},
     "output_type": "execute_result"
    },
    {
     "data": {
      "image/png": "[encoded data removed]",
      "text/plain": [
       "<Figure size 1000x700 with 1 Axes>"
      ]
     },
     "metadata": {},
     "output_type": "display_data"
    }
   ],
   "source": [
    "smoking_mean=2.638307\n",
    "smoking_color='red'\n",
    "plt.figure(figsize=(10,7))\n",
    "plt.style.use('fivethirtyeight')\n",
    "plt.hist(df['SMOKING'], bins=3, edgecolor='black')\n",
    "plt.title(\"Current Smoking Habits Distribution\")\n",
    "plt.xlabel('1 = Currently Smoke, 2 = Quite Smoking, 3 = Never Smoked')\n",
    "plt.xticks([1, 2, 3])\n",
    "plt.ylabel('Count')\n",
    "plt.axvline(smoking_mean, color=smoking_color, label='Mean Smoking')\n",
    "plt.legend()"
   ]
  },
  {
   "cell_type": "markdown",
   "id": "9783ca67",
   "metadata": {},
   "source": [
    "## General Health"
   ]
  },
  {
   "cell_type": "code",
   "execution_count": 15,
   "id": "c7345009",
   "metadata": {},
   "outputs": [
    {
     "data": {
      "text/plain": [
       "<matplotlib.legend.Legend at 0x28973cf7b80>"
      ]
     },
     "execution_count": 15,
     "metadata": {},
     "output_type": "execute_result"
    },
    {
     "data": {
      "image/png": "[encoded data removed]",
      "text/plain": [
       "<Figure size 1000x700 with 1 Axes>"
      ]
     },
     "metadata": {},
     "output_type": "display_data"
    }
   ],
   "source": [
    "#g_h_labels = ['1:excellent', '2:very good', '3: good', '4: fair', '5: poor']\n",
    "gen_health_mean=2.341232\n",
    "gen_health_color='red'\n",
    "plt.figure(figsize=(10,7))\n",
    "plt.style.use('fivethirtyeight')\n",
    "plt.hist(df['AB1'], bins=5, edgecolor='black')\n",
    "plt.title(\"General Health Distribution\")\n",
    "plt.xlabel('1 = Excellent, 2 = Very good, 3 = Good, 4 = Fair, 5 = Poor')\n",
    "plt.xticks([1, 2, 3, 4, 5])\n",
    "plt.ylabel('Count')\n",
    "plt.axvline(gen_health_mean, color=gen_health_color, label='Mean General Health')\n",
    "plt.legend()"
   ]
  },
  {
   "cell_type": "markdown",
   "id": "ccfd4dab",
   "metadata": {},
   "source": [
    "## Poverty level, as percentage of federal poverty level (FPL)"
   ]
  },
  {
   "cell_type": "code",
   "execution_count": 16,
   "id": "1804de05",
   "metadata": {},
   "outputs": [
    {
     "data": {
      "text/plain": [
       "<matplotlib.legend.Legend at 0x28972d68cd0>"
      ]
     },
     "execution_count": 16,
     "metadata": {},
     "output_type": "execute_result"
    },
    {
     "data": {
      "image/png": "[encoded data removed]",
      "text/plain": [
       "<Figure size 1000x700 with 1 Axes>"
      ]
     },
     "metadata": {},
     "output_type": "display_data"
    }
   ],
   "source": [
    "poverty_mean=3.423943\n",
    "poverty_color='red'\n",
    "plt.figure(figsize=(10,7))\n",
    "plt.style.use('fivethirtyeight')\n",
    "plt.hist(df['POVLL'], bins=4, edgecolor='black')\n",
    "plt.title(\"Poverty Levels Distribution: Federal Poverty Level (FPL)\")\n",
    "plt.xlabel('1 = 0-99% FPL, 2 = 100 to 199% FPL, 3 = 200 to 299% FPL, 4 = 300% FPL and above')\n",
    "plt.xticks([1, 2, 3, 4])\n",
    "plt.ylabel('Count')\n",
    "plt.axvline(poverty_mean, color=poverty_color, label='Mean Poverty')\n",
    "plt.legend()"
   ]
  },
  {
   "cell_type": "markdown",
   "id": "9fc61217",
   "metadata": {},
   "source": [
    "## Depression"
   ]
  },
  {
   "cell_type": "code",
   "execution_count": 17,
   "id": "a929f317",
   "metadata": {},
   "outputs": [
    {
     "data": {
      "text/plain": [
       "<matplotlib.legend.Legend at 0x2890a5e2130>"
      ]
     },
     "execution_count": 17,
     "metadata": {},
     "output_type": "execute_result"
    },
    {
     "data": {
      "image/png": "[encoded data removed]",
      "text/plain": [
       "<Figure size 1000x700 with 1 Axes>"
      ]
     },
     "metadata": {},
     "output_type": "display_data"
    }
   ],
   "source": [
    "depression_mean=4.633294\n",
    "depression_color='red'\n",
    "plt.figure(figsize=(10,7))\n",
    "plt.style.use('fivethirtyeight')\n",
    "plt.hist(df['AJ32'], bins=5, edgecolor='black')\n",
    "plt.title(\"Depression Levels Distribution\")\n",
    "plt.xlabel('1 = All the Time, 2 = Most Times, 3 = Sometimes, 4 = A Little of the Time, 5 = No')\n",
    "plt.xticks([1, 2, 3, 4, 5])\n",
    "plt.ylabel('Count')\n",
    "plt.axvline(depression_mean, color=depression_color, label='Mean Depression')\n",
    "plt.legend()"
   ]
  },
  {
   "cell_type": "markdown",
   "id": "a5afebd6",
   "metadata": {},
   "source": [
    "##  Smoking vs Depression"
   ]
  },
  {
   "cell_type": "code",
   "execution_count": 18,
   "id": "95ccf407",
   "metadata": {},
   "outputs": [
    {
     "data": {
      "text/plain": [
       "<AxesSubplot:xlabel='SMOKING', ylabel='AJ32'>"
      ]
     },
     "execution_count": 18,
     "metadata": {},
     "output_type": "execute_result"
    },
    {
     "data": {
      "image/png": "[encoded data removed]",
      "text/plain": [
       "<Figure size 640x480 with 1 Axes>"
      ]
     },
     "metadata": {},
     "output_type": "display_data"
    }
   ],
   "source": [
    "df.plot.scatter(x='SMOKING', y='AJ32')"
   ]
  },
  {
   "cell_type": "markdown",
   "id": "9a574670",
   "metadata": {},
   "source": [
    "# Box plots"
   ]
  },
  {
   "cell_type": "markdown",
   "id": "50c6228e",
   "metadata": {},
   "source": [
    "## Boxplot:  Depression"
   ]
  },
  {
   "cell_type": "code",
   "execution_count": 19,
   "id": "8f1d0ba0",
   "metadata": {},
   "outputs": [
    {
     "data": {
      "text/plain": [
       "Text(0.5, 0, 'VAR:  Depression')"
      ]
     },
     "execution_count": 19,
     "metadata": {},
     "output_type": "execute_result"
    },
    {
     "data": {
      "image/png": "[encoded data removed]",
      "text/plain": [
       "<Figure size 800x400 with 1 Axes>"
      ]
     },
     "metadata": {},
     "output_type": "display_data"
    }
   ],
   "source": [
    "plt.figure(figsize=(8,4))\n",
    "plt.boxplot(df['AJ32'], showmeans=True, meanline=True)\n",
    "plt.title(\"Depression\")\n",
    "plt.xlabel('VAR:  Depression')"
   ]
  },
  {
   "cell_type": "markdown",
   "id": "5cccbb3b",
   "metadata": {},
   "source": [
    "## Boxplot:  General Health"
   ]
  },
  {
   "cell_type": "code",
   "execution_count": 20,
   "id": "273152f6",
   "metadata": {
    "scrolled": true
   },
   "outputs": [
    {
     "data": {
      "text/plain": [
       "Text(0.5, 0, 'VAR:  General Health')"
      ]
     },
     "execution_count": 20,
     "metadata": {},
     "output_type": "execute_result"
    },
    {
     "data": {
      "image/png": "[encoded data removed]",
      "text/plain": [
       "<Figure size 700x400 with 1 Axes>"
      ]
     },
     "metadata": {},
     "output_type": "display_data"
    }
   ],
   "source": [
    "plt.figure(figsize=(7,4))\n",
    "plt.boxplot(df['AB1'], showmeans=True, meanline=True)\n",
    "plt.title(\"General Health\")\n",
    "plt.xlabel('VAR:  General Health')"
   ]
  },
  {
   "cell_type": "markdown",
   "id": "9857cdd8",
   "metadata": {},
   "source": [
    "## Boxplot:  Smoking Habits"
   ]
  },
  {
   "cell_type": "code",
   "execution_count": 21,
   "id": "4281cf65",
   "metadata": {
    "scrolled": true
   },
   "outputs": [
    {
     "data": {
      "text/plain": [
       "Text(0.5, 0, 'VAR:  Smoking Habits')"
      ]
     },
     "execution_count": 21,
     "metadata": {},
     "output_type": "execute_result"
    },
    {
     "data": {
      "image/png": "[encoded data removed]",
      "text/plain": [
       "<Figure size 700x400 with 1 Axes>"
      ]
     },
     "metadata": {},
     "output_type": "display_data"
    }
   ],
   "source": [
    "plt.figure(figsize=(7,4))\n",
    "plt.boxplot(df['SMOKING'], showmeans=True, meanline=True)\n",
    "plt.title(\"Smoking Habits\")\n",
    "plt.xlabel('VAR:  Smoking Habits')"
   ]
  },
  {
   "cell_type": "markdown",
   "id": "f6852e5e",
   "metadata": {},
   "source": [
    "## Boxplot:  Poverty"
   ]
  },
  {
   "cell_type": "code",
   "execution_count": 22,
   "id": "58bf9874",
   "metadata": {
    "scrolled": true
   },
   "outputs": [
    {
     "data": {
      "text/plain": [
       "Text(0.5, 0, 'VAR:  Poverty')"
      ]
     },
     "execution_count": 22,
     "metadata": {},
     "output_type": "execute_result"
    },
    {
     "data": {
      "image/png": "[encoded data removed]",
      "text/plain": [
       "<Figure size 700x400 with 1 Axes>"
      ]
     },
     "metadata": {},
     "output_type": "display_data"
    }
   ],
   "source": [
    "plt.figure(figsize=(7,4))\n",
    "plt.boxplot(df['POVLL'], showmeans=True, meanline=True)\n",
    "plt.title(\"Poverty Levels\")\n",
    "plt.xlabel('VAR:  Poverty')"
   ]
  },
  {
   "cell_type": "markdown",
   "id": "96a91932",
   "metadata": {},
   "source": [
    "## Correlation Matrix"
   ]
  },
  {
   "cell_type": "code",
   "execution_count": 23,
   "id": "a7a7e746",
   "metadata": {
    "scrolled": true
   },
   "outputs": [
    {
     "data": {
      "text/html": [
       "<div>\n",
       "<style scoped>\n",
       "    .dataframe tbody tr th:only-of-type {\n",
       "        vertical-align: middle;\n",
       "    }\n",
       "\n",
       "    .dataframe tbody tr th {\n",
       "        vertical-align: top;\n",
       "    }\n",
       "\n",
       "    .dataframe thead th {\n",
       "        text-align: right;\n",
       "    }\n",
       "</style>\n",
       "<table border=\"1\" class=\"dataframe\">\n",
       "  <thead>\n",
       "    <tr style=\"text-align: right;\">\n",
       "      <th></th>\n",
       "      <th>SMOKING</th>\n",
       "      <th>AB1</th>\n",
       "      <th>POVLL</th>\n",
       "      <th>AJ32</th>\n",
       "    </tr>\n",
       "  </thead>\n",
       "  <tbody>\n",
       "    <tr>\n",
       "      <th>SMOKING</th>\n",
       "      <td>1.000000</td>\n",
       "      <td>-0.145927</td>\n",
       "      <td>0.059351</td>\n",
       "      <td>0.037362</td>\n",
       "    </tr>\n",
       "    <tr>\n",
       "      <th>AB1</th>\n",
       "      <td>-0.145927</td>\n",
       "      <td>1.000000</td>\n",
       "      <td>-0.211444</td>\n",
       "      <td>-0.197935</td>\n",
       "    </tr>\n",
       "    <tr>\n",
       "      <th>POVLL</th>\n",
       "      <td>0.059351</td>\n",
       "      <td>-0.211444</td>\n",
       "      <td>1.000000</td>\n",
       "      <td>0.135364</td>\n",
       "    </tr>\n",
       "    <tr>\n",
       "      <th>AJ32</th>\n",
       "      <td>0.037362</td>\n",
       "      <td>-0.197935</td>\n",
       "      <td>0.135364</td>\n",
       "      <td>1.000000</td>\n",
       "    </tr>\n",
       "  </tbody>\n",
       "</table>\n",
       "</div>"
      ],
      "text/plain": [
       "          SMOKING       AB1     POVLL      AJ32\n",
       "SMOKING  1.000000 -0.145927  0.059351  0.037362\n",
       "AB1     -0.145927  1.000000 -0.211444 -0.197935\n",
       "POVLL    0.059351 -0.211444  1.000000  0.135364\n",
       "AJ32     0.037362 -0.197935  0.135364  1.000000"
      ]
     },
     "execution_count": 23,
     "metadata": {},
     "output_type": "execute_result"
    }
   ],
   "source": [
    "df.corr()"
   ]
  },
  {
   "cell_type": "markdown",
   "id": "9a5b08cf",
   "metadata": {},
   "source": [
    "## Rename Variables\n",
    "\n",
    "Create new data frame with clean data, rename  variables."
   ]
  },
  {
   "cell_type": "code",
   "execution_count": 24,
   "id": "a701af7c",
   "metadata": {},
   "outputs": [],
   "source": [
    "df_renamed = df.rename(columns = {'AB1': \"GEN_HEALTH\", \"POVLL\": \"POVERTY\", 'AJ32': 'DEPRESSION'})"
   ]
  },
  {
   "cell_type": "code",
   "execution_count": 25,
   "id": "749ea924",
   "metadata": {
    "scrolled": true
   },
   "outputs": [
    {
     "data": {
      "text/html": [
       "<div>\n",
       "<style scoped>\n",
       "    .dataframe tbody tr th:only-of-type {\n",
       "        vertical-align: middle;\n",
       "    }\n",
       "\n",
       "    .dataframe tbody tr th {\n",
       "        vertical-align: top;\n",
       "    }\n",
       "\n",
       "    .dataframe thead th {\n",
       "        text-align: right;\n",
       "    }\n",
       "</style>\n",
       "<table border=\"1\" class=\"dataframe\">\n",
       "  <thead>\n",
       "    <tr style=\"text-align: right;\">\n",
       "      <th></th>\n",
       "      <th>SMOKING</th>\n",
       "      <th>GEN_HEALTH</th>\n",
       "      <th>POVERTY</th>\n",
       "      <th>DEPRESSION</th>\n",
       "    </tr>\n",
       "  </thead>\n",
       "  <tbody>\n",
       "    <tr>\n",
       "      <th>count</th>\n",
       "      <td>21944.000000</td>\n",
       "      <td>21944.000000</td>\n",
       "      <td>21944.000000</td>\n",
       "      <td>21944.000000</td>\n",
       "    </tr>\n",
       "    <tr>\n",
       "      <th>mean</th>\n",
       "      <td>2.638307</td>\n",
       "      <td>2.341232</td>\n",
       "      <td>3.423943</td>\n",
       "      <td>4.633294</td>\n",
       "    </tr>\n",
       "    <tr>\n",
       "      <th>std</th>\n",
       "      <td>0.582533</td>\n",
       "      <td>0.981413</td>\n",
       "      <td>0.973866</td>\n",
       "      <td>0.727520</td>\n",
       "    </tr>\n",
       "    <tr>\n",
       "      <th>min</th>\n",
       "      <td>1.000000</td>\n",
       "      <td>1.000000</td>\n",
       "      <td>1.000000</td>\n",
       "      <td>1.000000</td>\n",
       "    </tr>\n",
       "    <tr>\n",
       "      <th>25%</th>\n",
       "      <td>2.000000</td>\n",
       "      <td>2.000000</td>\n",
       "      <td>3.000000</td>\n",
       "      <td>5.000000</td>\n",
       "    </tr>\n",
       "    <tr>\n",
       "      <th>50%</th>\n",
       "      <td>3.000000</td>\n",
       "      <td>2.000000</td>\n",
       "      <td>4.000000</td>\n",
       "      <td>5.000000</td>\n",
       "    </tr>\n",
       "    <tr>\n",
       "      <th>75%</th>\n",
       "      <td>3.000000</td>\n",
       "      <td>3.000000</td>\n",
       "      <td>4.000000</td>\n",
       "      <td>5.000000</td>\n",
       "    </tr>\n",
       "    <tr>\n",
       "      <th>max</th>\n",
       "      <td>3.000000</td>\n",
       "      <td>5.000000</td>\n",
       "      <td>4.000000</td>\n",
       "      <td>5.000000</td>\n",
       "    </tr>\n",
       "  </tbody>\n",
       "</table>\n",
       "</div>"
      ],
      "text/plain": [
       "            SMOKING    GEN_HEALTH       POVERTY    DEPRESSION\n",
       "count  21944.000000  21944.000000  21944.000000  21944.000000\n",
       "mean       2.638307      2.341232      3.423943      4.633294\n",
       "std        0.582533      0.981413      0.973866      0.727520\n",
       "min        1.000000      1.000000      1.000000      1.000000\n",
       "25%        2.000000      2.000000      3.000000      5.000000\n",
       "50%        3.000000      2.000000      4.000000      5.000000\n",
       "75%        3.000000      3.000000      4.000000      5.000000\n",
       "max        3.000000      5.000000      4.000000      5.000000"
      ]
     },
     "execution_count": 25,
     "metadata": {},
     "output_type": "execute_result"
    }
   ],
   "source": [
    "df_renamed.describe()"
   ]
  },
  {
   "cell_type": "markdown",
   "id": "b5cde599",
   "metadata": {},
   "source": [
    "## Summary\n",
    "\n",
    "**DEPRESSION**:  Dependent variable. Coded in CHIS as AJ32.  Survey question:  Feeling depressed in the past 30 days?\n",
    "\n",
    "    Coding: \n",
    "\n",
    "        1 = all the time\n",
    "        2 = most of the time\n",
    "        3 = some of the time\n",
    "        4 = a little of the time\n",
    "        5 = not at all\n",
    "    \n",
    "**POVERTY**:  Coded as POVLL in CHIS.  Calculated from respondants annual income and converted to reflect federal poverty levels (PFL).\n",
    "\n",
    "    Coding:\n",
    "\n",
    "        1 = 0-99% FPL\n",
    "        2 = 100 to 199% FPL\n",
    "        3 = 200 to 299% FPL\n",
    "        4 = 300% FPL and above\n",
    "\n",
    "**GEN_HEALTH**:  Coded in CHIS as AB1.  Tracks respondants self reported general health condition.\n",
    "\n",
    "    Coding:  \n",
    "\n",
    "        1 = excellent\n",
    "        2 = very good\n",
    "        3 = good\n",
    "        4 = fair\n",
    "        5 = poor\n",
    "    \n",
    "**SMOKING**:  Coded in CHIS as SMOKING.  Tracks respondants self reported smoking habits.  If resondant indicated not smoking >= 100 cigarettes in lifetime then categorized as \"never smoked regularly.\"\n",
    "\n",
    "    Coding\n",
    "\n",
    "        1 = currently smokes\n",
    "        2 = quit smoking\n",
    "        3 = never smoked regularly"
   ]
  },
  {
   "cell_type": "markdown",
   "id": "e2a36563",
   "metadata": {},
   "source": [
    "#  Re-create model with Var DEPRESSION as binary"
   ]
  },
  {
   "cell_type": "markdown",
   "id": "16df4689",
   "metadata": {},
   "source": [
    "make Var Depression Binary.\n",
    "\n",
    "If DEPRESSION = 5 then newDep = 2 Meaning, not-depressed\n",
    "\n",
    "if DEPRESSION <= 5 then newDep = 1 Meaning depressed."
   ]
  },
  {
   "cell_type": "code",
   "execution_count": 76,
   "id": "d957b8d5",
   "metadata": {},
   "outputs": [
    {
     "data": {
      "text/html": [
       "<div>\n",
       "<style scoped>\n",
       "    .dataframe tbody tr th:only-of-type {\n",
       "        vertical-align: middle;\n",
       "    }\n",
       "\n",
       "    .dataframe tbody tr th {\n",
       "        vertical-align: top;\n",
       "    }\n",
       "\n",
       "    .dataframe thead th {\n",
       "        text-align: right;\n",
       "    }\n",
       "</style>\n",
       "<table border=\"1\" class=\"dataframe\">\n",
       "  <thead>\n",
       "    <tr style=\"text-align: right;\">\n",
       "      <th></th>\n",
       "      <th>SMOKING</th>\n",
       "      <th>GEN_HEALTH</th>\n",
       "      <th>POVERTY</th>\n",
       "      <th>DEPRESSION</th>\n",
       "      <th>NEW_DEP</th>\n",
       "    </tr>\n",
       "  </thead>\n",
       "  <tbody>\n",
       "    <tr>\n",
       "      <th>count</th>\n",
       "      <td>21944.000000</td>\n",
       "      <td>21944.000000</td>\n",
       "      <td>21944.000000</td>\n",
       "      <td>21944.000000</td>\n",
       "      <td>21944.000000</td>\n",
       "    </tr>\n",
       "    <tr>\n",
       "      <th>mean</th>\n",
       "      <td>2.638307</td>\n",
       "      <td>2.341232</td>\n",
       "      <td>3.423943</td>\n",
       "      <td>4.633294</td>\n",
       "      <td>0.751868</td>\n",
       "    </tr>\n",
       "    <tr>\n",
       "      <th>std</th>\n",
       "      <td>0.582533</td>\n",
       "      <td>0.981413</td>\n",
       "      <td>0.973866</td>\n",
       "      <td>0.727520</td>\n",
       "      <td>0.431938</td>\n",
       "    </tr>\n",
       "    <tr>\n",
       "      <th>min</th>\n",
       "      <td>1.000000</td>\n",
       "      <td>1.000000</td>\n",
       "      <td>1.000000</td>\n",
       "      <td>1.000000</td>\n",
       "      <td>0.000000</td>\n",
       "    </tr>\n",
       "    <tr>\n",
       "      <th>25%</th>\n",
       "      <td>2.000000</td>\n",
       "      <td>2.000000</td>\n",
       "      <td>3.000000</td>\n",
       "      <td>5.000000</td>\n",
       "      <td>1.000000</td>\n",
       "    </tr>\n",
       "    <tr>\n",
       "      <th>50%</th>\n",
       "      <td>3.000000</td>\n",
       "      <td>2.000000</td>\n",
       "      <td>4.000000</td>\n",
       "      <td>5.000000</td>\n",
       "      <td>1.000000</td>\n",
       "    </tr>\n",
       "    <tr>\n",
       "      <th>75%</th>\n",
       "      <td>3.000000</td>\n",
       "      <td>3.000000</td>\n",
       "      <td>4.000000</td>\n",
       "      <td>5.000000</td>\n",
       "      <td>1.000000</td>\n",
       "    </tr>\n",
       "    <tr>\n",
       "      <th>max</th>\n",
       "      <td>3.000000</td>\n",
       "      <td>5.000000</td>\n",
       "      <td>4.000000</td>\n",
       "      <td>5.000000</td>\n",
       "      <td>1.000000</td>\n",
       "    </tr>\n",
       "  </tbody>\n",
       "</table>\n",
       "</div>"
      ],
      "text/plain": [
       "            SMOKING    GEN_HEALTH       POVERTY    DEPRESSION       NEW_DEP\n",
       "count  21944.000000  21944.000000  21944.000000  21944.000000  21944.000000\n",
       "mean       2.638307      2.341232      3.423943      4.633294      0.751868\n",
       "std        0.582533      0.981413      0.973866      0.727520      0.431938\n",
       "min        1.000000      1.000000      1.000000      1.000000      0.000000\n",
       "25%        2.000000      2.000000      3.000000      5.000000      1.000000\n",
       "50%        3.000000      2.000000      4.000000      5.000000      1.000000\n",
       "75%        3.000000      3.000000      4.000000      5.000000      1.000000\n",
       "max        3.000000      5.000000      4.000000      5.000000      1.000000"
      ]
     },
     "execution_count": 76,
     "metadata": {},
     "output_type": "execute_result"
    }
   ],
   "source": [
    "df_renamed.loc[df_renamed['DEPRESSION'] > 4, 'NEW_DEP'] = 1 # NOT DEPRESSED\n",
    "df_renamed.loc[df_renamed['DEPRESSION'] <= 4, 'NEW_DEP'] = 0 # DEPRESSED\n",
    "df_renamed.describe()"
   ]
  },
  {
   "cell_type": "markdown",
   "id": "d16f3c8f",
   "metadata": {},
   "source": [
    "# Visualiztion for new variable of DEPRESSION"
   ]
  },
  {
   "cell_type": "markdown",
   "id": "b8875111",
   "metadata": {},
   "source": [
    "Histogram:  NEW_DEP"
   ]
  },
  {
   "cell_type": "code",
   "execution_count": 80,
   "id": "35467694",
   "metadata": {},
   "outputs": [
    {
     "data": {
      "text/plain": [
       "<matplotlib.legend.Legend at 0x28ad7e352b0>"
      ]
     },
     "execution_count": 80,
     "metadata": {},
     "output_type": "execute_result"
    },
    {
     "data": {
      "image/png": "[encoded data removed]",
      "text/plain": [
       "<Figure size 1000x700 with 1 Axes>"
      ]
     },
     "metadata": {},
     "output_type": "display_data"
    }
   ],
   "source": [
    "depression_mean=0.751868\n",
    "depression_color='red'\n",
    "plt.figure(figsize=(10,7))\n",
    "plt.style.use('fivethirtyeight')\n",
    "plt.hist(df_renamed['NEW_DEP'], bins=2, edgecolor='black')\n",
    "plt.title(\"Depression Levels Distribution\")\n",
    "plt.xlabel('0 = Depressed, 1 = Not Depressed')\n",
    "plt.xticks([0, 1])\n",
    "plt.ylabel('Count')\n",
    "plt.axvline(depression_mean, color=depression_color, label='Mean Depression')\n",
    "plt.legend()"
   ]
  },
  {
   "cell_type": "markdown",
   "id": "092c0b09",
   "metadata": {},
   "source": [
    "Box plot:  NEW_DEP"
   ]
  },
  {
   "cell_type": "code",
   "execution_count": 81,
   "id": "d1b71d1b",
   "metadata": {},
   "outputs": [
    {
     "data": {
      "text/plain": [
       "Text(0.5, 0, 'VAR:  Depression')"
      ]
     },
     "execution_count": 81,
     "metadata": {},
     "output_type": "execute_result"
    },
    {
     "data": {
      "image/png": "[encoded data removed]",
      "text/plain": [
       "<Figure size 400x300 with 1 Axes>"
      ]
     },
     "metadata": {},
     "output_type": "display_data"
    }
   ],
   "source": [
    "plt.figure(figsize=(4,3))\n",
    "plt.boxplot(df_renamed['NEW_DEP'], showmeans=True, meanline=True)\n",
    "plt.title(\"Depression\")\n",
    "plt.xlabel('VAR:  Depression')"
   ]
  },
  {
   "cell_type": "markdown",
   "id": "ab6388e8",
   "metadata": {},
   "source": [
    "# Run Neural Network with new variable for Depression"
   ]
  },
  {
   "cell_type": "markdown",
   "id": "6f8b2884",
   "metadata": {},
   "source": [
    "#### Create \"Y_New\" dataframe out of Depression"
   ]
  },
  {
   "cell_type": "code",
   "execution_count": 82,
   "id": "77feed4b",
   "metadata": {
    "scrolled": true
   },
   "outputs": [
    {
     "name": "stdout",
     "output_type": "stream",
     "text": [
      "<class 'pandas.core.frame.DataFrame'>\n"
     ]
    },
    {
     "data": {
      "text/html": [
       "<div>\n",
       "<style scoped>\n",
       "    .dataframe tbody tr th:only-of-type {\n",
       "        vertical-align: middle;\n",
       "    }\n",
       "\n",
       "    .dataframe tbody tr th {\n",
       "        vertical-align: top;\n",
       "    }\n",
       "\n",
       "    .dataframe thead th {\n",
       "        text-align: right;\n",
       "    }\n",
       "</style>\n",
       "<table border=\"1\" class=\"dataframe\">\n",
       "  <thead>\n",
       "    <tr style=\"text-align: right;\">\n",
       "      <th></th>\n",
       "      <th>NEW_DEP</th>\n",
       "    </tr>\n",
       "  </thead>\n",
       "  <tbody>\n",
       "    <tr>\n",
       "      <th>count</th>\n",
       "      <td>21944.000000</td>\n",
       "    </tr>\n",
       "    <tr>\n",
       "      <th>mean</th>\n",
       "      <td>0.751868</td>\n",
       "    </tr>\n",
       "    <tr>\n",
       "      <th>std</th>\n",
       "      <td>0.431938</td>\n",
       "    </tr>\n",
       "    <tr>\n",
       "      <th>min</th>\n",
       "      <td>0.000000</td>\n",
       "    </tr>\n",
       "    <tr>\n",
       "      <th>25%</th>\n",
       "      <td>1.000000</td>\n",
       "    </tr>\n",
       "    <tr>\n",
       "      <th>50%</th>\n",
       "      <td>1.000000</td>\n",
       "    </tr>\n",
       "    <tr>\n",
       "      <th>75%</th>\n",
       "      <td>1.000000</td>\n",
       "    </tr>\n",
       "    <tr>\n",
       "      <th>max</th>\n",
       "      <td>1.000000</td>\n",
       "    </tr>\n",
       "  </tbody>\n",
       "</table>\n",
       "</div>"
      ],
      "text/plain": [
       "            NEW_DEP\n",
       "count  21944.000000\n",
       "mean       0.751868\n",
       "std        0.431938\n",
       "min        0.000000\n",
       "25%        1.000000\n",
       "50%        1.000000\n",
       "75%        1.000000\n",
       "max        1.000000"
      ]
     },
     "execution_count": 82,
     "metadata": {},
     "output_type": "execute_result"
    }
   ],
   "source": [
    "Y_New = df_renamed[['NEW_DEP']]\n",
    "print(type(Y_New))\n",
    "Y_New.describe()"
   ]
  },
  {
   "cell_type": "markdown",
   "id": "158dea9f",
   "metadata": {},
   "source": [
    "#### Create \"X_New\" dataframe  out of POVERTY, GEN_HEALTH, SMOKING"
   ]
  },
  {
   "cell_type": "code",
   "execution_count": 83,
   "id": "079cf802",
   "metadata": {},
   "outputs": [
    {
     "data": {
      "text/plain": [
       "Index(['SMOKING', 'GEN_HEALTH', 'POVERTY'], dtype='object')"
      ]
     },
     "execution_count": 83,
     "metadata": {},
     "output_type": "execute_result"
    }
   ],
   "source": [
    "ind_var_feat = df_renamed.columns[0:-2]\n",
    "ind_var_feat"
   ]
  },
  {
   "cell_type": "code",
   "execution_count": 84,
   "id": "cb05fd77",
   "metadata": {
    "scrolled": true
   },
   "outputs": [
    {
     "data": {
      "text/html": [
       "<div>\n",
       "<style scoped>\n",
       "    .dataframe tbody tr th:only-of-type {\n",
       "        vertical-align: middle;\n",
       "    }\n",
       "\n",
       "    .dataframe tbody tr th {\n",
       "        vertical-align: top;\n",
       "    }\n",
       "\n",
       "    .dataframe thead th {\n",
       "        text-align: right;\n",
       "    }\n",
       "</style>\n",
       "<table border=\"1\" class=\"dataframe\">\n",
       "  <thead>\n",
       "    <tr style=\"text-align: right;\">\n",
       "      <th></th>\n",
       "      <th>SMOKING</th>\n",
       "      <th>GEN_HEALTH</th>\n",
       "      <th>POVERTY</th>\n",
       "    </tr>\n",
       "  </thead>\n",
       "  <tbody>\n",
       "    <tr>\n",
       "      <th>count</th>\n",
       "      <td>21944.000000</td>\n",
       "      <td>21944.000000</td>\n",
       "      <td>21944.000000</td>\n",
       "    </tr>\n",
       "    <tr>\n",
       "      <th>mean</th>\n",
       "      <td>2.638307</td>\n",
       "      <td>2.341232</td>\n",
       "      <td>3.423943</td>\n",
       "    </tr>\n",
       "    <tr>\n",
       "      <th>std</th>\n",
       "      <td>0.582533</td>\n",
       "      <td>0.981413</td>\n",
       "      <td>0.973866</td>\n",
       "    </tr>\n",
       "    <tr>\n",
       "      <th>min</th>\n",
       "      <td>1.000000</td>\n",
       "      <td>1.000000</td>\n",
       "      <td>1.000000</td>\n",
       "    </tr>\n",
       "    <tr>\n",
       "      <th>25%</th>\n",
       "      <td>2.000000</td>\n",
       "      <td>2.000000</td>\n",
       "      <td>3.000000</td>\n",
       "    </tr>\n",
       "    <tr>\n",
       "      <th>50%</th>\n",
       "      <td>3.000000</td>\n",
       "      <td>2.000000</td>\n",
       "      <td>4.000000</td>\n",
       "    </tr>\n",
       "    <tr>\n",
       "      <th>75%</th>\n",
       "      <td>3.000000</td>\n",
       "      <td>3.000000</td>\n",
       "      <td>4.000000</td>\n",
       "    </tr>\n",
       "    <tr>\n",
       "      <th>max</th>\n",
       "      <td>3.000000</td>\n",
       "      <td>5.000000</td>\n",
       "      <td>4.000000</td>\n",
       "    </tr>\n",
       "  </tbody>\n",
       "</table>\n",
       "</div>"
      ],
      "text/plain": [
       "            SMOKING    GEN_HEALTH       POVERTY\n",
       "count  21944.000000  21944.000000  21944.000000\n",
       "mean       2.638307      2.341232      3.423943\n",
       "std        0.582533      0.981413      0.973866\n",
       "min        1.000000      1.000000      1.000000\n",
       "25%        2.000000      2.000000      3.000000\n",
       "50%        3.000000      2.000000      4.000000\n",
       "75%        3.000000      3.000000      4.000000\n",
       "max        3.000000      5.000000      4.000000"
      ]
     },
     "execution_count": 84,
     "metadata": {},
     "output_type": "execute_result"
    }
   ],
   "source": [
    "X_New = df_renamed[ind_var_feat]\n",
    "X_New.describe()"
   ]
  },
  {
   "cell_type": "markdown",
   "id": "b3e91291",
   "metadata": {},
   "source": [
    "# Split data set into training and testing sets"
   ]
  },
  {
   "cell_type": "code",
   "execution_count": 85,
   "id": "389d685f",
   "metadata": {},
   "outputs": [],
   "source": [
    "X_New_train, X_New_test, Y_New_train, Y_New_test = train_test_split(X_New, Y_New, \n",
    "                                                                    test_size=0.4, \n",
    "                                                                    random_state=42\n",
    "                                                                   )\n",
    "X_New_train, X_val, Y_New_train, Y_val = train_test_split(X_New_train, \n",
    "                                                          Y_New_train,\n",
    "                                                         test_size=.15,\n",
    "                                                         random_state=42)"
   ]
  },
  {
   "cell_type": "markdown",
   "id": "fa228a3a",
   "metadata": {},
   "source": [
    "confirm splits"
   ]
  },
  {
   "cell_type": "code",
   "execution_count": 86,
   "id": "6d2ca151",
   "metadata": {},
   "outputs": [
    {
     "name": "stdout",
     "output_type": "stream",
     "text": [
      "<class 'pandas.core.frame.DataFrame'>\n",
      "<class 'pandas.core.frame.DataFrame'>\n",
      "<class 'pandas.core.frame.DataFrame'>\n",
      "<class 'pandas.core.frame.DataFrame'>\n",
      "<class 'pandas.core.frame.DataFrame'>\n",
      "<class 'pandas.core.frame.DataFrame'>\n"
     ]
    }
   ],
   "source": [
    "print(type(X_New_train))\n",
    "print(type(X_New_test))\n",
    "print(type(X_val))\n",
    "print(type(Y_New_train))\n",
    "print(type(Y_New_test))\n",
    "print(type(Y_val))"
   ]
  },
  {
   "cell_type": "code",
   "execution_count": 87,
   "id": "d6987e66",
   "metadata": {
    "scrolled": true
   },
   "outputs": [
    {
     "data": {
      "text/html": [
       "<div>\n",
       "<style scoped>\n",
       "    .dataframe tbody tr th:only-of-type {\n",
       "        vertical-align: middle;\n",
       "    }\n",
       "\n",
       "    .dataframe tbody tr th {\n",
       "        vertical-align: top;\n",
       "    }\n",
       "\n",
       "    .dataframe thead th {\n",
       "        text-align: right;\n",
       "    }\n",
       "</style>\n",
       "<table border=\"1\" class=\"dataframe\">\n",
       "  <thead>\n",
       "    <tr style=\"text-align: right;\">\n",
       "      <th></th>\n",
       "      <th>SMOKING</th>\n",
       "      <th>GEN_HEALTH</th>\n",
       "      <th>POVERTY</th>\n",
       "    </tr>\n",
       "  </thead>\n",
       "  <tbody>\n",
       "    <tr>\n",
       "      <th>count</th>\n",
       "      <td>11191.000000</td>\n",
       "      <td>11191.000000</td>\n",
       "      <td>11191.000000</td>\n",
       "    </tr>\n",
       "    <tr>\n",
       "      <th>mean</th>\n",
       "      <td>2.640961</td>\n",
       "      <td>2.342597</td>\n",
       "      <td>3.428737</td>\n",
       "    </tr>\n",
       "    <tr>\n",
       "      <th>std</th>\n",
       "      <td>0.579620</td>\n",
       "      <td>0.979070</td>\n",
       "      <td>0.969458</td>\n",
       "    </tr>\n",
       "    <tr>\n",
       "      <th>min</th>\n",
       "      <td>1.000000</td>\n",
       "      <td>1.000000</td>\n",
       "      <td>1.000000</td>\n",
       "    </tr>\n",
       "    <tr>\n",
       "      <th>25%</th>\n",
       "      <td>2.000000</td>\n",
       "      <td>2.000000</td>\n",
       "      <td>3.000000</td>\n",
       "    </tr>\n",
       "    <tr>\n",
       "      <th>50%</th>\n",
       "      <td>3.000000</td>\n",
       "      <td>2.000000</td>\n",
       "      <td>4.000000</td>\n",
       "    </tr>\n",
       "    <tr>\n",
       "      <th>75%</th>\n",
       "      <td>3.000000</td>\n",
       "      <td>3.000000</td>\n",
       "      <td>4.000000</td>\n",
       "    </tr>\n",
       "    <tr>\n",
       "      <th>max</th>\n",
       "      <td>3.000000</td>\n",
       "      <td>5.000000</td>\n",
       "      <td>4.000000</td>\n",
       "    </tr>\n",
       "  </tbody>\n",
       "</table>\n",
       "</div>"
      ],
      "text/plain": [
       "            SMOKING    GEN_HEALTH       POVERTY\n",
       "count  11191.000000  11191.000000  11191.000000\n",
       "mean       2.640961      2.342597      3.428737\n",
       "std        0.579620      0.979070      0.969458\n",
       "min        1.000000      1.000000      1.000000\n",
       "25%        2.000000      2.000000      3.000000\n",
       "50%        3.000000      2.000000      4.000000\n",
       "75%        3.000000      3.000000      4.000000\n",
       "max        3.000000      5.000000      4.000000"
      ]
     },
     "execution_count": 87,
     "metadata": {},
     "output_type": "execute_result"
    }
   ],
   "source": [
    "#  Look at new data sets for confirmation\n",
    "X_New_train.describe()"
   ]
  },
  {
   "cell_type": "code",
   "execution_count": 88,
   "id": "be728668",
   "metadata": {
    "scrolled": true
   },
   "outputs": [
    {
     "data": {
      "text/html": [
       "<div>\n",
       "<style scoped>\n",
       "    .dataframe tbody tr th:only-of-type {\n",
       "        vertical-align: middle;\n",
       "    }\n",
       "\n",
       "    .dataframe tbody tr th {\n",
       "        vertical-align: top;\n",
       "    }\n",
       "\n",
       "    .dataframe thead th {\n",
       "        text-align: right;\n",
       "    }\n",
       "</style>\n",
       "<table border=\"1\" class=\"dataframe\">\n",
       "  <thead>\n",
       "    <tr style=\"text-align: right;\">\n",
       "      <th></th>\n",
       "      <th>SMOKING</th>\n",
       "      <th>GEN_HEALTH</th>\n",
       "      <th>POVERTY</th>\n",
       "    </tr>\n",
       "  </thead>\n",
       "  <tbody>\n",
       "    <tr>\n",
       "      <th>count</th>\n",
       "      <td>8778.000000</td>\n",
       "      <td>8778.000000</td>\n",
       "      <td>8778.000000</td>\n",
       "    </tr>\n",
       "    <tr>\n",
       "      <th>mean</th>\n",
       "      <td>2.637503</td>\n",
       "      <td>2.338004</td>\n",
       "      <td>3.411825</td>\n",
       "    </tr>\n",
       "    <tr>\n",
       "      <th>std</th>\n",
       "      <td>0.583520</td>\n",
       "      <td>0.979460</td>\n",
       "      <td>0.982370</td>\n",
       "    </tr>\n",
       "    <tr>\n",
       "      <th>min</th>\n",
       "      <td>1.000000</td>\n",
       "      <td>1.000000</td>\n",
       "      <td>1.000000</td>\n",
       "    </tr>\n",
       "    <tr>\n",
       "      <th>25%</th>\n",
       "      <td>2.000000</td>\n",
       "      <td>2.000000</td>\n",
       "      <td>3.000000</td>\n",
       "    </tr>\n",
       "    <tr>\n",
       "      <th>50%</th>\n",
       "      <td>3.000000</td>\n",
       "      <td>2.000000</td>\n",
       "      <td>4.000000</td>\n",
       "    </tr>\n",
       "    <tr>\n",
       "      <th>75%</th>\n",
       "      <td>3.000000</td>\n",
       "      <td>3.000000</td>\n",
       "      <td>4.000000</td>\n",
       "    </tr>\n",
       "    <tr>\n",
       "      <th>max</th>\n",
       "      <td>3.000000</td>\n",
       "      <td>5.000000</td>\n",
       "      <td>4.000000</td>\n",
       "    </tr>\n",
       "  </tbody>\n",
       "</table>\n",
       "</div>"
      ],
      "text/plain": [
       "           SMOKING   GEN_HEALTH      POVERTY\n",
       "count  8778.000000  8778.000000  8778.000000\n",
       "mean      2.637503     2.338004     3.411825\n",
       "std       0.583520     0.979460     0.982370\n",
       "min       1.000000     1.000000     1.000000\n",
       "25%       2.000000     2.000000     3.000000\n",
       "50%       3.000000     2.000000     4.000000\n",
       "75%       3.000000     3.000000     4.000000\n",
       "max       3.000000     5.000000     4.000000"
      ]
     },
     "execution_count": 88,
     "metadata": {},
     "output_type": "execute_result"
    }
   ],
   "source": [
    "X_New_test.describe()"
   ]
  },
  {
   "cell_type": "code",
   "execution_count": 89,
   "id": "de86c03a",
   "metadata": {},
   "outputs": [
    {
     "data": {
      "text/html": [
       "<div>\n",
       "<style scoped>\n",
       "    .dataframe tbody tr th:only-of-type {\n",
       "        vertical-align: middle;\n",
       "    }\n",
       "\n",
       "    .dataframe tbody tr th {\n",
       "        vertical-align: top;\n",
       "    }\n",
       "\n",
       "    .dataframe thead th {\n",
       "        text-align: right;\n",
       "    }\n",
       "</style>\n",
       "<table border=\"1\" class=\"dataframe\">\n",
       "  <thead>\n",
       "    <tr style=\"text-align: right;\">\n",
       "      <th></th>\n",
       "      <th>SMOKING</th>\n",
       "      <th>GEN_HEALTH</th>\n",
       "      <th>POVERTY</th>\n",
       "    </tr>\n",
       "  </thead>\n",
       "  <tbody>\n",
       "    <tr>\n",
       "      <th>count</th>\n",
       "      <td>1975.000000</td>\n",
       "      <td>1975.000000</td>\n",
       "      <td>1975.000000</td>\n",
       "    </tr>\n",
       "    <tr>\n",
       "      <th>mean</th>\n",
       "      <td>2.626835</td>\n",
       "      <td>2.347848</td>\n",
       "      <td>3.450633</td>\n",
       "    </tr>\n",
       "    <tr>\n",
       "      <th>std</th>\n",
       "      <td>0.594631</td>\n",
       "      <td>1.003547</td>\n",
       "      <td>0.960448</td>\n",
       "    </tr>\n",
       "    <tr>\n",
       "      <th>min</th>\n",
       "      <td>1.000000</td>\n",
       "      <td>1.000000</td>\n",
       "      <td>1.000000</td>\n",
       "    </tr>\n",
       "    <tr>\n",
       "      <th>25%</th>\n",
       "      <td>2.000000</td>\n",
       "      <td>2.000000</td>\n",
       "      <td>3.000000</td>\n",
       "    </tr>\n",
       "    <tr>\n",
       "      <th>50%</th>\n",
       "      <td>3.000000</td>\n",
       "      <td>2.000000</td>\n",
       "      <td>4.000000</td>\n",
       "    </tr>\n",
       "    <tr>\n",
       "      <th>75%</th>\n",
       "      <td>3.000000</td>\n",
       "      <td>3.000000</td>\n",
       "      <td>4.000000</td>\n",
       "    </tr>\n",
       "    <tr>\n",
       "      <th>max</th>\n",
       "      <td>3.000000</td>\n",
       "      <td>5.000000</td>\n",
       "      <td>4.000000</td>\n",
       "    </tr>\n",
       "  </tbody>\n",
       "</table>\n",
       "</div>"
      ],
      "text/plain": [
       "           SMOKING   GEN_HEALTH      POVERTY\n",
       "count  1975.000000  1975.000000  1975.000000\n",
       "mean      2.626835     2.347848     3.450633\n",
       "std       0.594631     1.003547     0.960448\n",
       "min       1.000000     1.000000     1.000000\n",
       "25%       2.000000     2.000000     3.000000\n",
       "50%       3.000000     2.000000     4.000000\n",
       "75%       3.000000     3.000000     4.000000\n",
       "max       3.000000     5.000000     4.000000"
      ]
     },
     "execution_count": 89,
     "metadata": {},
     "output_type": "execute_result"
    }
   ],
   "source": [
    "X_val.describe()"
   ]
  },
  {
   "cell_type": "code",
   "execution_count": 90,
   "id": "2aed10ce",
   "metadata": {},
   "outputs": [
    {
     "data": {
      "text/html": [
       "<div>\n",
       "<style scoped>\n",
       "    .dataframe tbody tr th:only-of-type {\n",
       "        vertical-align: middle;\n",
       "    }\n",
       "\n",
       "    .dataframe tbody tr th {\n",
       "        vertical-align: top;\n",
       "    }\n",
       "\n",
       "    .dataframe thead th {\n",
       "        text-align: right;\n",
       "    }\n",
       "</style>\n",
       "<table border=\"1\" class=\"dataframe\">\n",
       "  <thead>\n",
       "    <tr style=\"text-align: right;\">\n",
       "      <th></th>\n",
       "      <th>NEW_DEP</th>\n",
       "    </tr>\n",
       "  </thead>\n",
       "  <tbody>\n",
       "    <tr>\n",
       "      <th>count</th>\n",
       "      <td>8778.000000</td>\n",
       "    </tr>\n",
       "    <tr>\n",
       "      <th>mean</th>\n",
       "      <td>0.749829</td>\n",
       "    </tr>\n",
       "    <tr>\n",
       "      <th>std</th>\n",
       "      <td>0.433136</td>\n",
       "    </tr>\n",
       "    <tr>\n",
       "      <th>min</th>\n",
       "      <td>0.000000</td>\n",
       "    </tr>\n",
       "    <tr>\n",
       "      <th>25%</th>\n",
       "      <td>0.000000</td>\n",
       "    </tr>\n",
       "    <tr>\n",
       "      <th>50%</th>\n",
       "      <td>1.000000</td>\n",
       "    </tr>\n",
       "    <tr>\n",
       "      <th>75%</th>\n",
       "      <td>1.000000</td>\n",
       "    </tr>\n",
       "    <tr>\n",
       "      <th>max</th>\n",
       "      <td>1.000000</td>\n",
       "    </tr>\n",
       "  </tbody>\n",
       "</table>\n",
       "</div>"
      ],
      "text/plain": [
       "           NEW_DEP\n",
       "count  8778.000000\n",
       "mean      0.749829\n",
       "std       0.433136\n",
       "min       0.000000\n",
       "25%       0.000000\n",
       "50%       1.000000\n",
       "75%       1.000000\n",
       "max       1.000000"
      ]
     },
     "execution_count": 90,
     "metadata": {},
     "output_type": "execute_result"
    }
   ],
   "source": [
    "Y_New_test.describe()"
   ]
  },
  {
   "cell_type": "code",
   "execution_count": 91,
   "id": "20c0e2fa",
   "metadata": {
    "scrolled": false
   },
   "outputs": [
    {
     "data": {
      "text/html": [
       "<div>\n",
       "<style scoped>\n",
       "    .dataframe tbody tr th:only-of-type {\n",
       "        vertical-align: middle;\n",
       "    }\n",
       "\n",
       "    .dataframe tbody tr th {\n",
       "        vertical-align: top;\n",
       "    }\n",
       "\n",
       "    .dataframe thead th {\n",
       "        text-align: right;\n",
       "    }\n",
       "</style>\n",
       "<table border=\"1\" class=\"dataframe\">\n",
       "  <thead>\n",
       "    <tr style=\"text-align: right;\">\n",
       "      <th></th>\n",
       "      <th>NEW_DEP</th>\n",
       "    </tr>\n",
       "  </thead>\n",
       "  <tbody>\n",
       "    <tr>\n",
       "      <th>count</th>\n",
       "      <td>11191.000000</td>\n",
       "    </tr>\n",
       "    <tr>\n",
       "      <th>mean</th>\n",
       "      <td>0.751765</td>\n",
       "    </tr>\n",
       "    <tr>\n",
       "      <th>std</th>\n",
       "      <td>0.432008</td>\n",
       "    </tr>\n",
       "    <tr>\n",
       "      <th>min</th>\n",
       "      <td>0.000000</td>\n",
       "    </tr>\n",
       "    <tr>\n",
       "      <th>25%</th>\n",
       "      <td>1.000000</td>\n",
       "    </tr>\n",
       "    <tr>\n",
       "      <th>50%</th>\n",
       "      <td>1.000000</td>\n",
       "    </tr>\n",
       "    <tr>\n",
       "      <th>75%</th>\n",
       "      <td>1.000000</td>\n",
       "    </tr>\n",
       "    <tr>\n",
       "      <th>max</th>\n",
       "      <td>1.000000</td>\n",
       "    </tr>\n",
       "  </tbody>\n",
       "</table>\n",
       "</div>"
      ],
      "text/plain": [
       "            NEW_DEP\n",
       "count  11191.000000\n",
       "mean       0.751765\n",
       "std        0.432008\n",
       "min        0.000000\n",
       "25%        1.000000\n",
       "50%        1.000000\n",
       "75%        1.000000\n",
       "max        1.000000"
      ]
     },
     "execution_count": 91,
     "metadata": {},
     "output_type": "execute_result"
    }
   ],
   "source": [
    "Y_New_train.describe()"
   ]
  },
  {
   "cell_type": "code",
   "execution_count": 92,
   "id": "4093e43a",
   "metadata": {},
   "outputs": [
    {
     "data": {
      "text/html": [
       "<div>\n",
       "<style scoped>\n",
       "    .dataframe tbody tr th:only-of-type {\n",
       "        vertical-align: middle;\n",
       "    }\n",
       "\n",
       "    .dataframe tbody tr th {\n",
       "        vertical-align: top;\n",
       "    }\n",
       "\n",
       "    .dataframe thead th {\n",
       "        text-align: right;\n",
       "    }\n",
       "</style>\n",
       "<table border=\"1\" class=\"dataframe\">\n",
       "  <thead>\n",
       "    <tr style=\"text-align: right;\">\n",
       "      <th></th>\n",
       "      <th>NEW_DEP</th>\n",
       "    </tr>\n",
       "  </thead>\n",
       "  <tbody>\n",
       "    <tr>\n",
       "      <th>count</th>\n",
       "      <td>1975.000000</td>\n",
       "    </tr>\n",
       "    <tr>\n",
       "      <th>mean</th>\n",
       "      <td>0.761519</td>\n",
       "    </tr>\n",
       "    <tr>\n",
       "      <th>std</th>\n",
       "      <td>0.426263</td>\n",
       "    </tr>\n",
       "    <tr>\n",
       "      <th>min</th>\n",
       "      <td>0.000000</td>\n",
       "    </tr>\n",
       "    <tr>\n",
       "      <th>25%</th>\n",
       "      <td>1.000000</td>\n",
       "    </tr>\n",
       "    <tr>\n",
       "      <th>50%</th>\n",
       "      <td>1.000000</td>\n",
       "    </tr>\n",
       "    <tr>\n",
       "      <th>75%</th>\n",
       "      <td>1.000000</td>\n",
       "    </tr>\n",
       "    <tr>\n",
       "      <th>max</th>\n",
       "      <td>1.000000</td>\n",
       "    </tr>\n",
       "  </tbody>\n",
       "</table>\n",
       "</div>"
      ],
      "text/plain": [
       "           NEW_DEP\n",
       "count  1975.000000\n",
       "mean      0.761519\n",
       "std       0.426263\n",
       "min       0.000000\n",
       "25%       1.000000\n",
       "50%       1.000000\n",
       "75%       1.000000\n",
       "max       1.000000"
      ]
     },
     "execution_count": 92,
     "metadata": {},
     "output_type": "execute_result"
    }
   ],
   "source": [
    "Y_val.describe()"
   ]
  },
  {
   "cell_type": "markdown",
   "id": "fedbbe17",
   "metadata": {},
   "source": [
    "# Build to model"
   ]
  },
  {
   "cell_type": "code",
   "execution_count": 107,
   "id": "cb8265fa",
   "metadata": {},
   "outputs": [
    {
     "data": {
      "image/png": "[encoded data removed]",
      "text/plain": [
       "<IPython.core.display.Image object>"
      ]
     },
     "execution_count": 107,
     "metadata": {},
     "output_type": "execute_result"
    }
   ],
   "source": [
    "input_shape=3\n",
    "num_classes=2\n",
    "model = keras.models.Sequential()\n",
    "model.add(keras.Input(shape=input_shape, dtype='float64'))\n",
    "model.add(keras.layers.Dense(300, activation='relu'))\n",
    "model.add(keras.layers.Dense(300, activation='relu'))\n",
    "model.add(keras.layers.Dense(300, activation='relu'))\n",
    "model.add(keras.layers.Dense(100, activation='relu'))\n",
    "model.add(keras.layers.Dense(num_classes, activation='softmax'))\n",
    "\n",
    "# nn_model = make_model(input_shape=3, num_classes=2)\n",
    "keras.utils.plot_model(model, show_shapes=True)"
   ]
  },
  {
   "cell_type": "code",
   "execution_count": 109,
   "id": "088d1777",
   "metadata": {},
   "outputs": [
    {
     "name": "stdout",
     "output_type": "stream",
     "text": [
      "Model: \"sequential_3\"\n",
      "_________________________________________________________________\n",
      " Layer (type)                Output Shape              Param #   \n",
      "=================================================================\n",
      " dense_9 (Dense)             (None, 300)               1200      \n",
      "                                                                 \n",
      " dense_10 (Dense)            (None, 300)               90300     \n",
      "                                                                 \n",
      " dense_11 (Dense)            (None, 300)               90300     \n",
      "                                                                 \n",
      " dense_12 (Dense)            (None, 100)               30100     \n",
      "                                                                 \n",
      " dense_13 (Dense)            (None, 2)                 202       \n",
      "                                                                 \n",
      "=================================================================\n",
      "Total params: 212,102\n",
      "Trainable params: 212,102\n",
      "Non-trainable params: 0\n",
      "_________________________________________________________________\n"
     ]
    }
   ],
   "source": [
    "model.summary()"
   ]
  },
  {
   "cell_type": "code",
   "execution_count": 110,
   "id": "f869d9f8",
   "metadata": {},
   "outputs": [
    {
     "data": {
      "text/plain": [
       "[<keras.layers.core.dense.Dense at 0x28acaf8b3a0>,\n",
       " <keras.layers.core.dense.Dense at 0x289000002e0>,\n",
       " <keras.layers.core.dense.Dense at 0x2890004d460>,\n",
       " <keras.layers.core.dense.Dense at 0x28901c45c70>,\n",
       " <keras.layers.core.dense.Dense at 0x289028b61f0>]"
      ]
     },
     "execution_count": 110,
     "metadata": {},
     "output_type": "execute_result"
    }
   ],
   "source": [
    "model.layers"
   ]
  },
  {
   "cell_type": "markdown",
   "id": "83c027ec",
   "metadata": {},
   "source": [
    "# Compile the model"
   ]
  },
  {
   "cell_type": "code",
   "execution_count": 111,
   "id": "e5ee646b",
   "metadata": {},
   "outputs": [],
   "source": [
    "model.compile(loss='sparse_categorical_crossentropy', optimizer=\"sgd\", metrics=['accuracy'])"
   ]
  },
  {
   "cell_type": "markdown",
   "id": "5b9e1993",
   "metadata": {},
   "source": [
    "# Fit the model"
   ]
  },
  {
   "cell_type": "code",
   "execution_count": 112,
   "id": "04d7feac",
   "metadata": {},
   "outputs": [
    {
     "name": "stdout",
     "output_type": "stream",
     "text": [
      "Epoch 1/50\n",
      "350/350 [==============================] - 1s 3ms/step - loss: 0.5482 - accuracy: 0.7518 - val_loss: 0.5342 - val_accuracy: 0.7615\n",
      "Epoch 2/50\n",
      "350/350 [==============================] - 1s 2ms/step - loss: 0.5433 - accuracy: 0.7518 - val_loss: 0.5349 - val_accuracy: 0.7615\n",
      "Epoch 3/50\n",
      "350/350 [==============================] - 1s 2ms/step - loss: 0.5426 - accuracy: 0.7522 - val_loss: 0.5326 - val_accuracy: 0.7615\n",
      "Epoch 4/50\n",
      "350/350 [==============================] - 1s 2ms/step - loss: 0.5423 - accuracy: 0.7519 - val_loss: 0.5329 - val_accuracy: 0.7630\n",
      "Epoch 5/50\n",
      "350/350 [==============================] - 1s 2ms/step - loss: 0.5420 - accuracy: 0.7521 - val_loss: 0.5330 - val_accuracy: 0.7615\n",
      "Epoch 6/50\n",
      "350/350 [==============================] - 1s 2ms/step - loss: 0.5420 - accuracy: 0.7525 - val_loss: 0.5332 - val_accuracy: 0.7635\n",
      "Epoch 7/50\n",
      "350/350 [==============================] - 1s 2ms/step - loss: 0.5413 - accuracy: 0.7516 - val_loss: 0.5302 - val_accuracy: 0.7615\n",
      "Epoch 8/50\n",
      "350/350 [==============================] - 1s 2ms/step - loss: 0.5413 - accuracy: 0.7522 - val_loss: 0.5303 - val_accuracy: 0.7625\n",
      "Epoch 9/50\n",
      "350/350 [==============================] - 1s 2ms/step - loss: 0.5412 - accuracy: 0.7516 - val_loss: 0.5314 - val_accuracy: 0.7620\n",
      "Epoch 10/50\n",
      "350/350 [==============================] - 1s 2ms/step - loss: 0.5409 - accuracy: 0.7520 - val_loss: 0.5301 - val_accuracy: 0.7625\n",
      "Epoch 11/50\n",
      "350/350 [==============================] - 1s 2ms/step - loss: 0.5408 - accuracy: 0.7525 - val_loss: 0.5302 - val_accuracy: 0.7635\n",
      "Epoch 12/50\n",
      "350/350 [==============================] - 1s 2ms/step - loss: 0.5409 - accuracy: 0.7520 - val_loss: 0.5301 - val_accuracy: 0.7620\n",
      "Epoch 13/50\n",
      "350/350 [==============================] - 1s 2ms/step - loss: 0.5405 - accuracy: 0.7524 - val_loss: 0.5295 - val_accuracy: 0.7635\n",
      "Epoch 14/50\n",
      "350/350 [==============================] - 1s 2ms/step - loss: 0.5405 - accuracy: 0.7517 - val_loss: 0.5296 - val_accuracy: 0.7635\n",
      "Epoch 15/50\n",
      "350/350 [==============================] - 1s 2ms/step - loss: 0.5406 - accuracy: 0.7520 - val_loss: 0.5293 - val_accuracy: 0.7625\n",
      "Epoch 16/50\n",
      "350/350 [==============================] - 1s 2ms/step - loss: 0.5403 - accuracy: 0.7523 - val_loss: 0.5301 - val_accuracy: 0.7635\n",
      "Epoch 17/50\n",
      "350/350 [==============================] - 1s 2ms/step - loss: 0.5405 - accuracy: 0.7525 - val_loss: 0.5301 - val_accuracy: 0.7620\n",
      "Epoch 18/50\n",
      "350/350 [==============================] - 1s 2ms/step - loss: 0.5400 - accuracy: 0.7516 - val_loss: 0.5290 - val_accuracy: 0.7635\n",
      "Epoch 19/50\n",
      "350/350 [==============================] - 1s 2ms/step - loss: 0.5400 - accuracy: 0.7524 - val_loss: 0.5290 - val_accuracy: 0.7625\n",
      "Epoch 20/50\n",
      "350/350 [==============================] - 1s 2ms/step - loss: 0.5399 - accuracy: 0.7533 - val_loss: 0.5287 - val_accuracy: 0.7625\n",
      "Epoch 21/50\n",
      "350/350 [==============================] - 1s 2ms/step - loss: 0.5397 - accuracy: 0.7519 - val_loss: 0.5297 - val_accuracy: 0.7635\n",
      "Epoch 22/50\n",
      "350/350 [==============================] - 1s 2ms/step - loss: 0.5399 - accuracy: 0.7523 - val_loss: 0.5297 - val_accuracy: 0.7620\n",
      "Epoch 23/50\n",
      "350/350 [==============================] - 1s 2ms/step - loss: 0.5396 - accuracy: 0.7525 - val_loss: 0.5294 - val_accuracy: 0.7625\n",
      "Epoch 24/50\n",
      "350/350 [==============================] - 1s 2ms/step - loss: 0.5399 - accuracy: 0.7524 - val_loss: 0.5292 - val_accuracy: 0.7635\n",
      "Epoch 25/50\n",
      "350/350 [==============================] - 1s 2ms/step - loss: 0.5392 - accuracy: 0.7526 - val_loss: 0.5295 - val_accuracy: 0.7630\n",
      "Epoch 26/50\n",
      "350/350 [==============================] - 1s 2ms/step - loss: 0.5392 - accuracy: 0.7536 - val_loss: 0.5287 - val_accuracy: 0.7635\n",
      "Epoch 27/50\n",
      "350/350 [==============================] - 1s 2ms/step - loss: 0.5394 - accuracy: 0.7525 - val_loss: 0.5289 - val_accuracy: 0.7625\n",
      "Epoch 28/50\n",
      "350/350 [==============================] - 1s 2ms/step - loss: 0.5391 - accuracy: 0.7525 - val_loss: 0.5290 - val_accuracy: 0.7635\n",
      "Epoch 29/50\n",
      "350/350 [==============================] - 1s 2ms/step - loss: 0.5397 - accuracy: 0.7537 - val_loss: 0.5293 - val_accuracy: 0.7635\n",
      "Epoch 30/50\n",
      "350/350 [==============================] - 1s 2ms/step - loss: 0.5394 - accuracy: 0.7528 - val_loss: 0.5293 - val_accuracy: 0.7635\n",
      "Epoch 31/50\n",
      "350/350 [==============================] - 1s 2ms/step - loss: 0.5392 - accuracy: 0.7521 - val_loss: 0.5285 - val_accuracy: 0.7620\n",
      "Epoch 32/50\n",
      "350/350 [==============================] - 1s 2ms/step - loss: 0.5392 - accuracy: 0.7516 - val_loss: 0.5319 - val_accuracy: 0.7585\n",
      "Epoch 33/50\n",
      "350/350 [==============================] - 1s 2ms/step - loss: 0.5389 - accuracy: 0.7528 - val_loss: 0.5332 - val_accuracy: 0.7615\n",
      "Epoch 34/50\n",
      "350/350 [==============================] - 1s 2ms/step - loss: 0.5390 - accuracy: 0.7524 - val_loss: 0.5286 - val_accuracy: 0.7595\n",
      "Epoch 35/50\n",
      "350/350 [==============================] - 1s 2ms/step - loss: 0.5392 - accuracy: 0.7534 - val_loss: 0.5283 - val_accuracy: 0.7635\n",
      "Epoch 36/50\n",
      "350/350 [==============================] - 1s 2ms/step - loss: 0.5386 - accuracy: 0.7528 - val_loss: 0.5281 - val_accuracy: 0.7635\n",
      "Epoch 37/50\n",
      "350/350 [==============================] - 1s 2ms/step - loss: 0.5392 - accuracy: 0.7527 - val_loss: 0.5285 - val_accuracy: 0.7620\n",
      "Epoch 38/50\n",
      "350/350 [==============================] - 1s 2ms/step - loss: 0.5389 - accuracy: 0.7520 - val_loss: 0.5279 - val_accuracy: 0.7635\n",
      "Epoch 39/50\n",
      "350/350 [==============================] - 1s 2ms/step - loss: 0.5388 - accuracy: 0.7519 - val_loss: 0.5279 - val_accuracy: 0.7635\n",
      "Epoch 40/50\n",
      "350/350 [==============================] - 1s 2ms/step - loss: 0.5391 - accuracy: 0.7524 - val_loss: 0.5279 - val_accuracy: 0.7635\n",
      "Epoch 41/50\n",
      "350/350 [==============================] - 1s 2ms/step - loss: 0.5389 - accuracy: 0.7527 - val_loss: 0.5289 - val_accuracy: 0.7635\n",
      "Epoch 42/50\n",
      "350/350 [==============================] - 1s 2ms/step - loss: 0.5390 - accuracy: 0.7512 - val_loss: 0.5284 - val_accuracy: 0.7635\n",
      "Epoch 43/50\n",
      "350/350 [==============================] - 1s 2ms/step - loss: 0.5389 - accuracy: 0.7518 - val_loss: 0.5278 - val_accuracy: 0.7635\n",
      "Epoch 44/50\n",
      "350/350 [==============================] - 1s 2ms/step - loss: 0.5389 - accuracy: 0.7528 - val_loss: 0.5280 - val_accuracy: 0.7635\n",
      "Epoch 45/50\n",
      "350/350 [==============================] - 1s 2ms/step - loss: 0.5389 - accuracy: 0.7525 - val_loss: 0.5282 - val_accuracy: 0.7641\n",
      "Epoch 46/50\n",
      "350/350 [==============================] - 1s 2ms/step - loss: 0.5388 - accuracy: 0.7537 - val_loss: 0.5277 - val_accuracy: 0.7641\n",
      "Epoch 47/50\n",
      "350/350 [==============================] - 1s 2ms/step - loss: 0.5385 - accuracy: 0.7528 - val_loss: 0.5282 - val_accuracy: 0.7635\n",
      "Epoch 48/50\n",
      "350/350 [==============================] - 1s 2ms/step - loss: 0.5388 - accuracy: 0.7523 - val_loss: 0.5276 - val_accuracy: 0.7635\n",
      "Epoch 49/50\n",
      "350/350 [==============================] - 1s 2ms/step - loss: 0.5384 - accuracy: 0.7519 - val_loss: 0.5308 - val_accuracy: 0.7625\n",
      "Epoch 50/50\n",
      "350/350 [==============================] - 1s 2ms/step - loss: 0.5388 - accuracy: 0.7526 - val_loss: 0.5275 - val_accuracy: 0.7635\n"
     ]
    }
   ],
   "source": [
    "history = model.fit(X_New_train, Y_New_train, epochs=50, validation_data= (X_val,Y_val),batch_size=32)"
   ]
  },
  {
   "cell_type": "markdown",
   "id": "a7d3dd41",
   "metadata": {},
   "source": [
    "Initial Pass:  The model is not learning.  Something is wrong, I want to investigate, but my initial thoughts are that a neural network is not the right algorithm for such a simple problem (there are a total of 4 variables).  \n",
    "\n",
    "    Actions taken on initial pass:  changed coding to depression 0 = depressed, 1 = not depressed\n",
    "\n",
    "    Results:  model is now learning, but at a low rate.  I am running 50 epochs, I think I need to add more layers.  This will be my next course of action.  loss: 0.5390 - accuracy: 0.7528 - val_loss: 0.5292 - val_accuracy: 0.7641.\n",
    "    \n",
    "Second pass:  not much improvement.\n",
    "    \n",
    "    actions taken at second pass:  added two more hidden layers with 300 neurons each.  Ket same activation function.\n",
    "    \n",
    "    Results:  loss: 0.5388 - accuracy: 0.7526 - val_loss: 0.5275 - val_accuracy: 0.7635, essentially the same numbers"
   ]
  },
  {
   "cell_type": "markdown",
   "id": "4b4aa789",
   "metadata": {},
   "source": [
    "# Model Performance"
   ]
  },
  {
   "cell_type": "code",
   "execution_count": 113,
   "id": "e939a0bf",
   "metadata": {},
   "outputs": [
    {
     "data": {
      "text/plain": [
       "(0.0, 1.0)"
      ]
     },
     "execution_count": 113,
     "metadata": {},
     "output_type": "execute_result"
    },
    {
     "data": {
      "image/png": "[encoded data removed]",
      "text/plain": [
       "<Figure size 1500x800 with 1 Axes>"
      ]
     },
     "metadata": {},
     "output_type": "display_data"
    }
   ],
   "source": [
    "pd.DataFrame(history.history).plot(figsize=(15,8))\n",
    "plt.grid(True)\n",
    "plt.gca().set_ylim(0,1)"
   ]
  },
  {
   "cell_type": "markdown",
   "id": "0277c63f",
   "metadata": {},
   "source": [
    "intial pass:  We have 0 or nan values for all metrics.  After changes results are better, but the metrics look like horizontal lines.\n",
    "\n",
    "second pass:    I still have two sets of horizontal lines, they have not moved from their location relative to the y-axis"
   ]
  },
  {
   "cell_type": "markdown",
   "id": "2415a9f1",
   "metadata": {},
   "source": [
    "# Evaluate model on test set"
   ]
  },
  {
   "cell_type": "code",
   "execution_count": 115,
   "id": "ca6bef66",
   "metadata": {},
   "outputs": [
    {
     "name": "stdout",
     "output_type": "stream",
     "text": [
      "275/275 [==============================] - 1s 2ms/step - loss: 0.5463 - accuracy: 0.7509\n"
     ]
    },
    {
     "data": {
      "text/plain": [
       "[0.5463082790374756, 0.7508544325828552]"
      ]
     },
     "execution_count": 115,
     "metadata": {},
     "output_type": "execute_result"
    }
   ],
   "source": [
    "model.evaluate(X_New_test, Y_New_test)"
   ]
  },
  {
   "cell_type": "markdown",
   "id": "dd3c72a5",
   "metadata": {},
   "source": [
    "Initial pass:  again, 0 or nan values for accuracy and loss.  After chaning dependant var the following results were prodiced\n",
    "\n",
    "    loss: 0.5488 - accuracy: 0.7505\n",
    "\n",
    "second pass:  After adding two hidden layers the following reulsts were produced\n",
    "    \n",
    "    loss: 0.5463 - accuracy: 0.7509"
   ]
  },
  {
   "cell_type": "markdown",
   "id": "a34cd0e9",
   "metadata": {},
   "source": [
    "# Predictions probability"
   ]
  },
  {
   "cell_type": "code",
   "execution_count": 116,
   "id": "b0a948d8",
   "metadata": {
    "scrolled": true
   },
   "outputs": [
    {
     "name": "stdout",
     "output_type": "stream",
     "text": [
      "275/275 [==============================] - 0s 1ms/step\n"
     ]
    },
    {
     "data": {
      "text/plain": [
       "array([1, 1, 1, ..., 1, 1, 1], dtype=int64)"
      ]
     },
     "execution_count": 116,
     "metadata": {},
     "output_type": "execute_result"
    }
   ],
   "source": [
    "y_prob = model.predict(X_New_test)\n",
    "y_classes = y_prob.argmax(axis=-1)\n",
    "y_classes"
   ]
  },
  {
   "cell_type": "markdown",
   "id": "fb0b3c12",
   "metadata": {},
   "source": [
    "Initial pass after changing dep var:  array([1, 1, 1, ..., 1, 1, 1], dtype=int64)\n",
    "\n",
    "second pass:  array([1, 1, 1, ..., 1, 1, 1], dtype=int64)\n",
    "    \n",
    "    no significant changes"
   ]
  },
  {
   "cell_type": "markdown",
   "id": "1eb88870",
   "metadata": {},
   "source": [
    "# Confusion Matrix"
   ]
  },
  {
   "cell_type": "code",
   "execution_count": 117,
   "id": "df7119b1",
   "metadata": {},
   "outputs": [
    {
     "data": {
      "text/plain": [
       "<tf.Tensor: shape=(2, 2), dtype=int32, numpy=\n",
       "array([[  50, 2146],\n",
       "       [  41, 6541]])>"
      ]
     },
     "execution_count": 117,
     "metadata": {},
     "output_type": "execute_result"
    }
   ],
   "source": [
    "confusion_matrix = tf.math.confusion_matrix(Y_New_test, y_classes)\n",
    "confusion_matrix"
   ]
  },
  {
   "cell_type": "markdown",
   "id": "70fcd34b",
   "metadata": {},
   "source": [
    "# Create a better visualization of the confusion matrix"
   ]
  },
  {
   "cell_type": "code",
   "execution_count": 118,
   "id": "e04bd4c5",
   "metadata": {},
   "outputs": [
    {
     "data": {
      "image/png": "[encoded data removed]",
      "text/plain": [
       "<Figure size 1000x1000 with 2 Axes>"
      ]
     },
     "metadata": {},
     "output_type": "display_data"
    }
   ],
   "source": [
    "class_names = ['Depressed', 'Not-Depressed']\n",
    "\n",
    "fig = sns.heatmap(confusion_matrix, annot=True, fmt=\"g\", cmap=\"Greens\")\n",
    "fig.set_xlabel('Predicted labels')\n",
    "fig.set_ylabel('True Labels')\n",
    "fig.set_title(\"Confusion Matrix\")\n",
    "fig.xaxis.set_ticklabels(class_names)\n",
    "fig.yaxis.set_ticklabels(class_names)\n",
    "fig.figure.set_size_inches(10, 10)"
   ]
  },
  {
   "cell_type": "markdown",
   "id": "fcbaafed",
   "metadata": {},
   "source": [
    "initial pass:  not getting results\n",
    "\n",
    "second pass:  appears that we have high misclassifications of not-depressed.  We wnt to see diagonoal boxes  I still beleive I should add two more hidden layers"
   ]
  },
  {
   "cell_type": "markdown",
   "id": "21ea49c9",
   "metadata": {},
   "source": [
    "# Conclusions\n",
    "\n",
    "loss: 0.5388 - accuracy: 0.7526 - val_loss: 0.5275 - val_accuracy: 0.7635\n",
    "\n",
    "a lot of misclassification of \"depressed' to \"not depressed\" \n",
    "\n",
    "It must be noted that the neural network prduced similar accuracy scores as the decision tree matrix from last week.  Like last weeks model, the neural network cannot properly categorize \"depressed\" given the variables provided.\n",
    "\n",
    "I do not beleive the model's hyper-parameters are the issue, I know beleive that the independant varaibles are not viable variables for predicting depression.\n",
    "\n",
    "According to results from this neural network poverty, general health, and smoking habits are not strong predictors of depression.  \n",
    "\n",
    "Reccomend two courses of action:\n",
    "\n",
    "    1.  conduct a thorough test on neural networks hyper-parameters, to confirm that changing these will not provide much more improvemt to model.  Given that we have added to the complexity of the nueral network by adding two hidden layers with 300 neurons each, I do not expect to find much improvement by this course of action.  This is merely to be systematic in testing.\n",
    "    \n",
    "    2.  Conduct PCA of original dataset to find variables that may predict depression better.\n",
    "    \n",
    "Comparing from last weeks assignment, the results of this model confirm that it was not the analytical technique that is the issue.  Niether techinique produced different results.  It may be that poverty, general health, and smoking habits are not enough for predicting depression.  This implies that we need to add more variables, hence why one of the reccomndations is to conduct a PCA of the original data.\n",
    "\n",
    "I must further note that there is published research that shows that poverty does predict depression.  The results of this model do not contradict this.  This model is using depression as well as general health, and smoking habits.  It is the three variables combined that produces low accuracy scores for predicting depression.  \n",
    "\n",
    "When you combine the knowledge from published resaerch on poverty and depression, and the results of this model, we can more firmly conclude that we need more variables to better predict depression."
   ]
  }
 ],
 "metadata": {
  "kernelspec": {
   "display_name": "Python 3 (ipykernel)",
   "language": "python",
   "name": "python3"
  },
  "language_info": {
   "codemirror_mode": {
    "name": "ipython",
    "version": 3
   },
   "file_extension": ".py",
   "mimetype": "text/x-python",
   "name": "python",
   "nbconvert_exporter": "python",
   "pygments_lexer": "ipython3",
   "version": "3.9.13"
  }
 },
 "nbformat": 4,
 "nbformat_minor": 5
}
